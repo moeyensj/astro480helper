{
 "metadata": {
  "name": "",
  "signature": "sha256:0d28a35bf6102758a9a471e993b8b539028ad9f84721f744f8304763519c2121"
 },
 "nbformat": 3,
 "nbformat_minor": 0,
 "worksheets": [
  {
   "cells": [
    {
     "cell_type": "code",
     "collapsed": true,
     "input": [
      "import ShiftTrimmer as st"
     ],
     "language": "python",
     "metadata": {},
     "outputs": [],
     "prompt_number": 1
    },
    {
     "cell_type": "markdown",
     "metadata": {},
     "source": [
      "### Batch Operation to Create Batches of Equal Length"
     ]
    },
    {
     "cell_type": "code",
     "collapsed": true,
     "input": [
      "# Pre-Meridian Flip\n",
      "st.batchOperation(59,78,20,dx=2,dy=-1,newdir='trimmedimages/')"
     ],
     "language": "python",
     "metadata": {},
     "outputs": [
      {
       "output_type": "stream",
       "stream": "stdout",
       "text": [
        "dx: 2, dy: -1\n",
        "x: [1, 1054], y: [20, 736], x*y: 753948\n",
        "HatP12b.Light.60S1X2.V.59[1:1054,20:736] -> trimmedimages/HatP12b.Light.60S1X2.V.59.b1\n"
       ]
      },
      {
       "output_type": "stream",
       "stream": "stdout",
       "text": [
        "x: [3, 1056], y: [19, 735], x*y: 753948\n",
        "HatP12b.Light.60S1X2.V.60[3:1056,19:735] -> trimmedimages/HatP12b.Light.60S1X2.V.60.b1\n"
       ]
      },
      {
       "output_type": "stream",
       "stream": "stdout",
       "text": [
        "x: [5, 1058], y: [18, 734], x*y: 753948\n",
        "HatP12b.Light.60S1X2.V.61[5:1058,18:734] -> trimmedimages/HatP12b.Light.60S1X2.V.61.b1\n"
       ]
      },
      {
       "output_type": "stream",
       "stream": "stdout",
       "text": [
        "x: [7, 1060], y: [17, 733], x*y: 753948\n",
        "HatP12b.Light.60S1X2.V.62[7:1060,17:733] -> trimmedimages/HatP12b.Light.60S1X2.V.62.b1\n"
       ]
      },
      {
       "output_type": "stream",
       "stream": "stdout",
       "text": [
        "x: [9, 1062], y: [16, 732], x*y: 753948\n",
        "HatP12b.Light.60S1X2.V.63[9:1062,16:732] -> trimmedimages/HatP12b.Light.60S1X2.V.63.b1\n"
       ]
      },
      {
       "output_type": "stream",
       "stream": "stdout",
       "text": [
        "x: [11, 1064], y: [15, 731], x*y: 753948\n",
        "HatP12b.Light.60S1X2.V.64[11:1064,15:731] -> trimmedimages/HatP12b.Light.60S1X2.V.64.b1\n"
       ]
      },
      {
       "output_type": "stream",
       "stream": "stdout",
       "text": [
        "x: [13, 1066], y: [14, 730], x*y: 753948\n",
        "HatP12b.Light.60S1X2.V.65[13:1066,14:730] -> trimmedimages/HatP12b.Light.60S1X2.V.65.b1\n"
       ]
      },
      {
       "output_type": "stream",
       "stream": "stdout",
       "text": [
        "x: [15, 1068], y: [13, 729], x*y: 753948\n",
        "HatP12b.Light.60S1X2.V.66[15:1068,13:729] -> trimmedimages/HatP12b.Light.60S1X2.V.66.b1\n"
       ]
      },
      {
       "output_type": "stream",
       "stream": "stdout",
       "text": [
        "x: [17, 1070], y: [12, 728], x*y: 753948\n",
        "HatP12b.Light.60S1X2.V.67[17:1070,12:728] -> trimmedimages/HatP12b.Light.60S1X2.V.67.b1\n"
       ]
      },
      {
       "output_type": "stream",
       "stream": "stdout",
       "text": [
        "x: [19, 1072], y: [11, 727], x*y: 753948\n",
        "HatP12b.Light.60S1X2.V.68[19:1072,11:727] -> trimmedimages/HatP12b.Light.60S1X2.V.68.b1\n"
       ]
      },
      {
       "output_type": "stream",
       "stream": "stdout",
       "text": [
        "x: [21, 1074], y: [10, 726], x*y: 753948\n",
        "HatP12b.Light.60S1X2.V.69[21:1074,10:726] -> trimmedimages/HatP12b.Light.60S1X2.V.69.b1\n"
       ]
      },
      {
       "output_type": "stream",
       "stream": "stdout",
       "text": [
        "x: [23, 1076], y: [9, 725], x*y: 753948\n",
        "HatP12b.Light.60S1X2.V.70[23:1076,9:725] -> trimmedimages/HatP12b.Light.60S1X2.V.70.b1\n"
       ]
      },
      {
       "output_type": "stream",
       "stream": "stdout",
       "text": [
        "x: [25, 1078], y: [8, 724], x*y: 753948\n",
        "HatP12b.Light.60S1X2.V.71[25:1078,8:724] -> trimmedimages/HatP12b.Light.60S1X2.V.71.b1\n"
       ]
      },
      {
       "output_type": "stream",
       "stream": "stdout",
       "text": [
        "x: [27, 1080], y: [7, 723], x*y: 753948\n",
        "HatP12b.Light.60S1X2.V.72[27:1080,7:723] -> trimmedimages/HatP12b.Light.60S1X2.V.72.b1\n"
       ]
      },
      {
       "output_type": "stream",
       "stream": "stdout",
       "text": [
        "x: [29, 1082], y: [6, 722], x*y: 753948\n",
        "HatP12b.Light.60S1X2.V.73[29:1082,6:722] -> trimmedimages/HatP12b.Light.60S1X2.V.73.b1\n"
       ]
      },
      {
       "output_type": "stream",
       "stream": "stdout",
       "text": [
        "x: [31, 1084], y: [5, 721], x*y: 753948\n",
        "HatP12b.Light.60S1X2.V.74[31:1084,5:721] -> trimmedimages/HatP12b.Light.60S1X2.V.74.b1\n"
       ]
      },
      {
       "output_type": "stream",
       "stream": "stdout",
       "text": [
        "x: [33, 1086], y: [4, 720], x*y: 753948\n",
        "HatP12b.Light.60S1X2.V.75[33:1086,4:720] -> trimmedimages/HatP12b.Light.60S1X2.V.75.b1\n"
       ]
      },
      {
       "output_type": "stream",
       "stream": "stdout",
       "text": [
        "x: [35, 1088], y: [3, 719], x*y: 753948\n",
        "HatP12b.Light.60S1X2.V.76[35:1088,3:719] -> trimmedimages/HatP12b.Light.60S1X2.V.76.b1\n"
       ]
      },
      {
       "output_type": "stream",
       "stream": "stdout",
       "text": [
        "x: [37, 1090], y: [2, 718], x*y: 753948\n",
        "HatP12b.Light.60S1X2.V.77[37:1090,2:718] -> trimmedimages/HatP12b.Light.60S1X2.V.77.b1\n"
       ]
      },
      {
       "output_type": "stream",
       "stream": "stdout",
       "text": [
        "x: [39, 1092], y: [1, 717], x*y: 753948\n",
        "HatP12b.Light.60S1X2.V.78[39:1092,1:717] -> trimmedimages/HatP12b.Light.60S1X2.V.78.b1\n"
       ]
      }
     ],
     "prompt_number": 2
    },
    {
     "cell_type": "code",
     "collapsed": true,
     "input": [
      "# Post Meridian, Post Crash \n",
      "st.batchOperation(79,223,20,dx=-2,dy=1,newdir='trimmedimages/',offset_batchnum=1)"
     ],
     "language": "python",
     "metadata": {},
     "outputs": [
      {
       "output_type": "stream",
       "stream": "stdout",
       "text": [
        "dx: -2, dy: 1\n",
        "x: [39, 1092], y: [1, 717], x*y: 753948\n",
        "HatP12b.Light.60S1X2.V.79[39:1092,1:717] -> trimmedimages/HatP12b.Light.60S1X2.V.79.b2\n"
       ]
      },
      {
       "output_type": "stream",
       "stream": "stdout",
       "text": [
        "x: [37, 1090], y: [2, 718], x*y: 753948\n",
        "HatP12b.Light.60S1X2.V.80[37:1090,2:718] -> trimmedimages/HatP12b.Light.60S1X2.V.80.b2\n"
       ]
      },
      {
       "output_type": "stream",
       "stream": "stdout",
       "text": [
        "x: [35, 1088], y: [3, 719], x*y: 753948\n",
        "HatP12b.Light.60S1X2.V.81[35:1088,3:719] -> trimmedimages/HatP12b.Light.60S1X2.V.81.b2\n"
       ]
      },
      {
       "output_type": "stream",
       "stream": "stdout",
       "text": [
        "x: [33, 1086], y: [4, 720], x*y: 753948\n",
        "HatP12b.Light.60S1X2.V.82[33:1086,4:720] -> trimmedimages/HatP12b.Light.60S1X2.V.82.b2\n"
       ]
      },
      {
       "output_type": "stream",
       "stream": "stdout",
       "text": [
        "x: [31, 1084], y: [5, 721], x*y: 753948\n",
        "HatP12b.Light.60S1X2.V.83[31:1084,5:721] -> trimmedimages/HatP12b.Light.60S1X2.V.83.b2\n"
       ]
      },
      {
       "output_type": "stream",
       "stream": "stdout",
       "text": [
        "x: [29, 1082], y: [6, 722], x*y: 753948\n",
        "HatP12b.Light.60S1X2.V.84[29:1082,6:722] -> trimmedimages/HatP12b.Light.60S1X2.V.84.b2\n"
       ]
      },
      {
       "output_type": "stream",
       "stream": "stdout",
       "text": [
        "x: [27, 1080], y: [7, 723], x*y: 753948\n",
        "HatP12b.Light.60S1X2.V.85[27:1080,7:723] -> trimmedimages/HatP12b.Light.60S1X2.V.85.b2\n"
       ]
      },
      {
       "output_type": "stream",
       "stream": "stdout",
       "text": [
        "x: [25, 1078], y: [8, 724], x*y: 753948\n",
        "HatP12b.Light.60S1X2.V.86[25:1078,8:724] -> trimmedimages/HatP12b.Light.60S1X2.V.86.b2\n"
       ]
      },
      {
       "output_type": "stream",
       "stream": "stdout",
       "text": [
        "x: [23, 1076], y: [9, 725], x*y: 753948\n",
        "HatP12b.Light.60S1X2.V.87[23:1076,9:725] -> trimmedimages/HatP12b.Light.60S1X2.V.87.b2\n"
       ]
      },
      {
       "output_type": "stream",
       "stream": "stdout",
       "text": [
        "x: [21, 1074], y: [10, 726], x*y: 753948\n",
        "HatP12b.Light.60S1X2.V.88[21:1074,10:726] -> trimmedimages/HatP12b.Light.60S1X2.V.88.b2\n"
       ]
      },
      {
       "output_type": "stream",
       "stream": "stdout",
       "text": [
        "x: [19, 1072], y: [11, 727], x*y: 753948\n",
        "HatP12b.Light.60S1X2.V.89[19:1072,11:727] -> trimmedimages/HatP12b.Light.60S1X2.V.89.b2\n"
       ]
      },
      {
       "output_type": "stream",
       "stream": "stdout",
       "text": [
        "x: [17, 1070], y: [12, 728], x*y: 753948\n",
        "HatP12b.Light.60S1X2.V.90[17:1070,12:728] -> trimmedimages/HatP12b.Light.60S1X2.V.90.b2\n"
       ]
      },
      {
       "output_type": "stream",
       "stream": "stdout",
       "text": [
        "x: [15, 1068], y: [13, 729], x*y: 753948\n",
        "HatP12b.Light.60S1X2.V.91[15:1068,13:729] -> trimmedimages/HatP12b.Light.60S1X2.V.91.b2\n"
       ]
      },
      {
       "output_type": "stream",
       "stream": "stdout",
       "text": [
        "x: [13, 1066], y: [14, 730], x*y: 753948\n",
        "HatP12b.Light.60S1X2.V.92[13:1066,14:730] -> trimmedimages/HatP12b.Light.60S1X2.V.92.b2\n"
       ]
      },
      {
       "output_type": "stream",
       "stream": "stdout",
       "text": [
        "x: [11, 1064], y: [15, 731], x*y: 753948\n",
        "HatP12b.Light.60S1X2.V.93[11:1064,15:731] -> trimmedimages/HatP12b.Light.60S1X2.V.93.b2\n"
       ]
      },
      {
       "output_type": "stream",
       "stream": "stdout",
       "text": [
        "x: [9, 1062], y: [16, 732], x*y: 753948\n",
        "HatP12b.Light.60S1X2.V.94[9:1062,16:732] -> trimmedimages/HatP12b.Light.60S1X2.V.94.b2\n"
       ]
      },
      {
       "output_type": "stream",
       "stream": "stdout",
       "text": [
        "x: [7, 1060], y: [17, 733], x*y: 753948\n",
        "HatP12b.Light.60S1X2.V.95[7:1060,17:733] -> trimmedimages/HatP12b.Light.60S1X2.V.95.b2\n"
       ]
      },
      {
       "output_type": "stream",
       "stream": "stdout",
       "text": [
        "x: [5, 1058], y: [18, 734], x*y: 753948\n",
        "HatP12b.Light.60S1X2.V.96[5:1058,18:734] -> trimmedimages/HatP12b.Light.60S1X2.V.96.b2\n"
       ]
      },
      {
       "output_type": "stream",
       "stream": "stdout",
       "text": [
        "x: [3, 1056], y: [19, 735], x*y: 753948\n",
        "HatP12b.Light.60S1X2.V.97[3:1056,19:735] -> trimmedimages/HatP12b.Light.60S1X2.V.97.b2\n"
       ]
      },
      {
       "output_type": "stream",
       "stream": "stdout",
       "text": [
        "x: [1, 1054], y: [20, 736], x*y: 753948\n",
        "HatP12b.Light.60S1X2.V.98[1:1054,20:736] -> trimmedimages/HatP12b.Light.60S1X2.V.98.b2\n"
       ]
      },
      {
       "output_type": "stream",
       "stream": "stdout",
       "text": [
        "dx: -2, dy: 1\n",
        "x: [39, 1092], y: [1, 717], x*y: 753948\n",
        "HatP12b.Light.60S1X2.V.99[39:1092,1:717] -> trimmedimages/HatP12b.Light.60S1X2.V.99.b3\n"
       ]
      },
      {
       "output_type": "stream",
       "stream": "stdout",
       "text": [
        "x: [37, 1090], y: [2, 718], x*y: 753948\n",
        "HatP12b.Light.60S1X2.V.100[37:1090,2:718] -> trimmedimages/HatP12b.Light.60S1X2.V.100.b3\n"
       ]
      },
      {
       "output_type": "stream",
       "stream": "stdout",
       "text": [
        "x: [35, 1088], y: [3, 719], x*y: 753948\n",
        "HatP12b.Light.60S1X2.V.101[35:1088,3:719] -> trimmedimages/HatP12b.Light.60S1X2.V.101.b3\n"
       ]
      },
      {
       "output_type": "stream",
       "stream": "stdout",
       "text": [
        "x: [33, 1086], y: [4, 720], x*y: 753948\n",
        "HatP12b.Light.60S1X2.V.102[33:1086,4:720] -> trimmedimages/HatP12b.Light.60S1X2.V.102.b3\n"
       ]
      },
      {
       "output_type": "stream",
       "stream": "stdout",
       "text": [
        "x: [31, 1084], y: [5, 721], x*y: 753948\n",
        "HatP12b.Light.60S1X2.V.103[31:1084,5:721] -> trimmedimages/HatP12b.Light.60S1X2.V.103.b3\n"
       ]
      },
      {
       "output_type": "stream",
       "stream": "stdout",
       "text": [
        "x: [29, 1082], y: [6, 722], x*y: 753948\n",
        "HatP12b.Light.60S1X2.V.104[29:1082,6:722] -> trimmedimages/HatP12b.Light.60S1X2.V.104.b3\n"
       ]
      },
      {
       "output_type": "stream",
       "stream": "stdout",
       "text": [
        "x: [27, 1080], y: [7, 723], x*y: 753948\n",
        "HatP12b.Light.60S1X2.V.105[27:1080,7:723] -> trimmedimages/HatP12b.Light.60S1X2.V.105.b3\n"
       ]
      },
      {
       "output_type": "stream",
       "stream": "stdout",
       "text": [
        "x: [25, 1078], y: [8, 724], x*y: 753948\n",
        "HatP12b.Light.60S1X2.V.106[25:1078,8:724] -> trimmedimages/HatP12b.Light.60S1X2.V.106.b3\n"
       ]
      },
      {
       "output_type": "stream",
       "stream": "stdout",
       "text": [
        "x: [23, 1076], y: [9, 725], x*y: 753948\n",
        "HatP12b.Light.60S1X2.V.107[23:1076,9:725] -> trimmedimages/HatP12b.Light.60S1X2.V.107.b3\n"
       ]
      },
      {
       "output_type": "stream",
       "stream": "stdout",
       "text": [
        "x: [21, 1074], y: [10, 726], x*y: 753948\n",
        "HatP12b.Light.60S1X2.V.108[21:1074,10:726] -> trimmedimages/HatP12b.Light.60S1X2.V.108.b3\n"
       ]
      },
      {
       "output_type": "stream",
       "stream": "stdout",
       "text": [
        "x: [19, 1072], y: [11, 727], x*y: 753948\n",
        "HatP12b.Light.60S1X2.V.109[19:1072,11:727] -> trimmedimages/HatP12b.Light.60S1X2.V.109.b3\n"
       ]
      },
      {
       "output_type": "stream",
       "stream": "stdout",
       "text": [
        "x: [17, 1070], y: [12, 728], x*y: 753948\n",
        "HatP12b.Light.60S1X2.V.110[17:1070,12:728] -> trimmedimages/HatP12b.Light.60S1X2.V.110.b3\n"
       ]
      },
      {
       "output_type": "stream",
       "stream": "stdout",
       "text": [
        "x: [15, 1068], y: [13, 729], x*y: 753948\n",
        "HatP12b.Light.60S1X2.V.111[15:1068,13:729] -> trimmedimages/HatP12b.Light.60S1X2.V.111.b3\n"
       ]
      },
      {
       "output_type": "stream",
       "stream": "stdout",
       "text": [
        "x: [13, 1066], y: [14, 730], x*y: 753948\n",
        "HatP12b.Light.60S1X2.V.112[13:1066,14:730] -> trimmedimages/HatP12b.Light.60S1X2.V.112.b3\n"
       ]
      },
      {
       "output_type": "stream",
       "stream": "stdout",
       "text": [
        "x: [11, 1064], y: [15, 731], x*y: 753948\n",
        "HatP12b.Light.60S1X2.V.113[11:1064,15:731] -> trimmedimages/HatP12b.Light.60S1X2.V.113.b3\n"
       ]
      },
      {
       "output_type": "stream",
       "stream": "stdout",
       "text": [
        "x: [9, 1062], y: [16, 732], x*y: 753948\n",
        "HatP12b.Light.60S1X2.V.114[9:1062,16:732] -> trimmedimages/HatP12b.Light.60S1X2.V.114.b3\n"
       ]
      },
      {
       "output_type": "stream",
       "stream": "stdout",
       "text": [
        "x: [7, 1060], y: [17, 733], x*y: 753948\n",
        "HatP12b.Light.60S1X2.V.115[7:1060,17:733] -> trimmedimages/HatP12b.Light.60S1X2.V.115.b3\n"
       ]
      },
      {
       "output_type": "stream",
       "stream": "stdout",
       "text": [
        "x: [5, 1058], y: [18, 734], x*y: 753948\n",
        "HatP12b.Light.60S1X2.V.116[5:1058,18:734] -> trimmedimages/HatP12b.Light.60S1X2.V.116.b3\n"
       ]
      },
      {
       "output_type": "stream",
       "stream": "stdout",
       "text": [
        "x: [3, 1056], y: [19, 735], x*y: 753948\n",
        "HatP12b.Light.60S1X2.V.117[3:1056,19:735] -> trimmedimages/HatP12b.Light.60S1X2.V.117.b3\n"
       ]
      },
      {
       "output_type": "stream",
       "stream": "stdout",
       "text": [
        "x: [1, 1054], y: [20, 736], x*y: 753948\n",
        "HatP12b.Light.60S1X2.V.118[1:1054,20:736] -> trimmedimages/HatP12b.Light.60S1X2.V.118.b3\n"
       ]
      },
      {
       "output_type": "stream",
       "stream": "stdout",
       "text": [
        "dx: -2, dy: 1\n",
        "x: [39, 1092], y: [1, 717], x*y: 753948\n",
        "HatP12b.Light.60S1X2.V.119[39:1092,1:717] -> trimmedimages/HatP12b.Light.60S1X2.V.119.b4\n"
       ]
      },
      {
       "output_type": "stream",
       "stream": "stdout",
       "text": [
        "x: [37, 1090], y: [2, 718], x*y: 753948\n",
        "HatP12b.Light.60S1X2.V.120[37:1090,2:718] -> trimmedimages/HatP12b.Light.60S1X2.V.120.b4\n"
       ]
      },
      {
       "output_type": "stream",
       "stream": "stdout",
       "text": [
        "x: [35, 1088], y: [3, 719], x*y: 753948\n",
        "HatP12b.Light.60S1X2.V.121[35:1088,3:719] -> trimmedimages/HatP12b.Light.60S1X2.V.121.b4\n"
       ]
      },
      {
       "output_type": "stream",
       "stream": "stdout",
       "text": [
        "x: [33, 1086], y: [4, 720], x*y: 753948\n",
        "HatP12b.Light.60S1X2.V.122[33:1086,4:720] -> trimmedimages/HatP12b.Light.60S1X2.V.122.b4\n"
       ]
      },
      {
       "output_type": "stream",
       "stream": "stdout",
       "text": [
        "x: [31, 1084], y: [5, 721], x*y: 753948\n",
        "HatP12b.Light.60S1X2.V.123[31:1084,5:721] -> trimmedimages/HatP12b.Light.60S1X2.V.123.b4\n"
       ]
      },
      {
       "output_type": "stream",
       "stream": "stdout",
       "text": [
        "x: [29, 1082], y: [6, 722], x*y: 753948\n",
        "HatP12b.Light.60S1X2.V.124[29:1082,6:722] -> trimmedimages/HatP12b.Light.60S1X2.V.124.b4\n"
       ]
      },
      {
       "output_type": "stream",
       "stream": "stdout",
       "text": [
        "x: [27, 1080], y: [7, 723], x*y: 753948\n",
        "HatP12b.Light.60S1X2.V.125[27:1080,7:723] -> trimmedimages/HatP12b.Light.60S1X2.V.125.b4\n"
       ]
      },
      {
       "output_type": "stream",
       "stream": "stdout",
       "text": [
        "x: [25, 1078], y: [8, 724], x*y: 753948\n",
        "HatP12b.Light.60S1X2.V.126[25:1078,8:724] -> trimmedimages/HatP12b.Light.60S1X2.V.126.b4\n"
       ]
      },
      {
       "output_type": "stream",
       "stream": "stdout",
       "text": [
        "x: [23, 1076], y: [9, 725], x*y: 753948\n",
        "HatP12b.Light.60S1X2.V.127[23:1076,9:725] -> trimmedimages/HatP12b.Light.60S1X2.V.127.b4\n"
       ]
      },
      {
       "output_type": "stream",
       "stream": "stdout",
       "text": [
        "x: [21, 1074], y: [10, 726], x*y: 753948\n",
        "HatP12b.Light.60S1X2.V.128[21:1074,10:726] -> trimmedimages/HatP12b.Light.60S1X2.V.128.b4\n"
       ]
      },
      {
       "output_type": "stream",
       "stream": "stdout",
       "text": [
        "x: [19, 1072], y: [11, 727], x*y: 753948\n",
        "HatP12b.Light.60S1X2.V.129[19:1072,11:727] -> trimmedimages/HatP12b.Light.60S1X2.V.129.b4\n"
       ]
      },
      {
       "output_type": "stream",
       "stream": "stdout",
       "text": [
        "x: [17, 1070], y: [12, 728], x*y: 753948\n",
        "HatP12b.Light.60S1X2.V.130[17:1070,12:728] -> trimmedimages/HatP12b.Light.60S1X2.V.130.b4\n"
       ]
      },
      {
       "output_type": "stream",
       "stream": "stdout",
       "text": [
        "x: [15, 1068], y: [13, 729], x*y: 753948\n",
        "HatP12b.Light.60S1X2.V.131[15:1068,13:729] -> trimmedimages/HatP12b.Light.60S1X2.V.131.b4\n"
       ]
      },
      {
       "output_type": "stream",
       "stream": "stdout",
       "text": [
        "x: [13, 1066], y: [14, 730], x*y: 753948\n",
        "HatP12b.Light.60S1X2.V.132[13:1066,14:730] -> trimmedimages/HatP12b.Light.60S1X2.V.132.b4\n"
       ]
      },
      {
       "output_type": "stream",
       "stream": "stdout",
       "text": [
        "x: [11, 1064], y: [15, 731], x*y: 753948\n",
        "HatP12b.Light.60S1X2.V.133[11:1064,15:731] -> trimmedimages/HatP12b.Light.60S1X2.V.133.b4\n"
       ]
      },
      {
       "output_type": "stream",
       "stream": "stdout",
       "text": [
        "x: [9, 1062], y: [16, 732], x*y: 753948\n",
        "HatP12b.Light.60S1X2.V.134[9:1062,16:732] -> trimmedimages/HatP12b.Light.60S1X2.V.134.b4\n"
       ]
      },
      {
       "output_type": "stream",
       "stream": "stdout",
       "text": [
        "x: [7, 1060], y: [17, 733], x*y: 753948\n",
        "HatP12b.Light.60S1X2.V.135[7:1060,17:733] -> trimmedimages/HatP12b.Light.60S1X2.V.135.b4\n"
       ]
      },
      {
       "output_type": "stream",
       "stream": "stdout",
       "text": [
        "x: [5, 1058], y: [18, 734], x*y: 753948\n",
        "HatP12b.Light.60S1X2.V.136[5:1058,18:734] -> trimmedimages/HatP12b.Light.60S1X2.V.136.b4\n"
       ]
      },
      {
       "output_type": "stream",
       "stream": "stdout",
       "text": [
        "x: [3, 1056], y: [19, 735], x*y: 753948\n",
        "HatP12b.Light.60S1X2.V.137[3:1056,19:735] -> trimmedimages/HatP12b.Light.60S1X2.V.137.b4\n"
       ]
      },
      {
       "output_type": "stream",
       "stream": "stdout",
       "text": [
        "x: [1, 1054], y: [20, 736], x*y: 753948\n",
        "HatP12b.Light.60S1X2.V.138[1:1054,20:736] -> trimmedimages/HatP12b.Light.60S1X2.V.138.b4\n"
       ]
      },
      {
       "output_type": "stream",
       "stream": "stdout",
       "text": [
        "dx: -2, dy: 1\n",
        "x: [39, 1092], y: [1, 717], x*y: 753948\n",
        "HatP12b.Light.60S1X2.V.139[39:1092,1:717] -> trimmedimages/HatP12b.Light.60S1X2.V.139.b5\n"
       ]
      },
      {
       "output_type": "stream",
       "stream": "stdout",
       "text": [
        "x: [37, 1090], y: [2, 718], x*y: 753948\n",
        "HatP12b.Light.60S1X2.V.140[37:1090,2:718] -> trimmedimages/HatP12b.Light.60S1X2.V.140.b5\n"
       ]
      },
      {
       "output_type": "stream",
       "stream": "stdout",
       "text": [
        "x: [35, 1088], y: [3, 719], x*y: 753948\n",
        "HatP12b.Light.60S1X2.V.141[35:1088,3:719] -> trimmedimages/HatP12b.Light.60S1X2.V.141.b5\n"
       ]
      },
      {
       "output_type": "stream",
       "stream": "stdout",
       "text": [
        "x: [33, 1086], y: [4, 720], x*y: 753948\n",
        "HatP12b.Light.60S1X2.V.142[33:1086,4:720] -> trimmedimages/HatP12b.Light.60S1X2.V.142.b5\n"
       ]
      },
      {
       "output_type": "stream",
       "stream": "stdout",
       "text": [
        "x: [31, 1084], y: [5, 721], x*y: 753948\n",
        "HatP12b.Light.60S1X2.V.143[31:1084,5:721] -> trimmedimages/HatP12b.Light.60S1X2.V.143.b5\n"
       ]
      },
      {
       "output_type": "stream",
       "stream": "stdout",
       "text": [
        "x: [29, 1082], y: [6, 722], x*y: 753948\n",
        "HatP12b.Light.60S1X2.V.144[29:1082,6:722] -> trimmedimages/HatP12b.Light.60S1X2.V.144.b5\n"
       ]
      },
      {
       "output_type": "stream",
       "stream": "stdout",
       "text": [
        "x: [27, 1080], y: [7, 723], x*y: 753948\n",
        "HatP12b.Light.60S1X2.V.145[27:1080,7:723] -> trimmedimages/HatP12b.Light.60S1X2.V.145.b5\n"
       ]
      },
      {
       "output_type": "stream",
       "stream": "stdout",
       "text": [
        "x: [25, 1078], y: [8, 724], x*y: 753948\n",
        "HatP12b.Light.60S1X2.V.146[25:1078,8:724] -> trimmedimages/HatP12b.Light.60S1X2.V.146.b5\n"
       ]
      },
      {
       "output_type": "stream",
       "stream": "stdout",
       "text": [
        "x: [23, 1076], y: [9, 725], x*y: 753948\n",
        "HatP12b.Light.60S1X2.V.147[23:1076,9:725] -> trimmedimages/HatP12b.Light.60S1X2.V.147.b5\n"
       ]
      },
      {
       "output_type": "stream",
       "stream": "stdout",
       "text": [
        "x: [21, 1074], y: [10, 726], x*y: 753948\n",
        "HatP12b.Light.60S1X2.V.148[21:1074,10:726] -> trimmedimages/HatP12b.Light.60S1X2.V.148.b5\n"
       ]
      },
      {
       "output_type": "stream",
       "stream": "stdout",
       "text": [
        "x: [19, 1072], y: [11, 727], x*y: 753948\n",
        "HatP12b.Light.60S1X2.V.149[19:1072,11:727] -> trimmedimages/HatP12b.Light.60S1X2.V.149.b5\n"
       ]
      },
      {
       "output_type": "stream",
       "stream": "stdout",
       "text": [
        "x: [17, 1070], y: [12, 728], x*y: 753948\n",
        "HatP12b.Light.60S1X2.V.150[17:1070,12:728] -> trimmedimages/HatP12b.Light.60S1X2.V.150.b5\n"
       ]
      },
      {
       "output_type": "stream",
       "stream": "stdout",
       "text": [
        "x: [15, 1068], y: [13, 729], x*y: 753948\n",
        "HatP12b.Light.60S1X2.V.151[15:1068,13:729] -> trimmedimages/HatP12b.Light.60S1X2.V.151.b5\n"
       ]
      },
      {
       "output_type": "stream",
       "stream": "stdout",
       "text": [
        "x: [13, 1066], y: [14, 730], x*y: 753948\n",
        "HatP12b.Light.60S1X2.V.152[13:1066,14:730] -> trimmedimages/HatP12b.Light.60S1X2.V.152.b5\n"
       ]
      },
      {
       "output_type": "stream",
       "stream": "stdout",
       "text": [
        "x: [11, 1064], y: [15, 731], x*y: 753948\n",
        "HatP12b.Light.60S1X2.V.153[11:1064,15:731] -> trimmedimages/HatP12b.Light.60S1X2.V.153.b5\n"
       ]
      },
      {
       "output_type": "stream",
       "stream": "stdout",
       "text": [
        "x: [9, 1062], y: [16, 732], x*y: 753948\n",
        "HatP12b.Light.60S1X2.V.154[9:1062,16:732] -> trimmedimages/HatP12b.Light.60S1X2.V.154.b5\n"
       ]
      },
      {
       "output_type": "stream",
       "stream": "stdout",
       "text": [
        "x: [7, 1060], y: [17, 733], x*y: 753948\n",
        "HatP12b.Light.60S1X2.V.155[7:1060,17:733] -> trimmedimages/HatP12b.Light.60S1X2.V.155.b5\n"
       ]
      },
      {
       "output_type": "stream",
       "stream": "stdout",
       "text": [
        "x: [5, 1058], y: [18, 734], x*y: 753948\n",
        "HatP12b.Light.60S1X2.V.156[5:1058,18:734] -> trimmedimages/HatP12b.Light.60S1X2.V.156.b5\n"
       ]
      },
      {
       "output_type": "stream",
       "stream": "stdout",
       "text": [
        "x: [3, 1056], y: [19, 735], x*y: 753948\n",
        "HatP12b.Light.60S1X2.V.157[3:1056,19:735] -> trimmedimages/HatP12b.Light.60S1X2.V.157.b5\n"
       ]
      },
      {
       "output_type": "stream",
       "stream": "stdout",
       "text": [
        "x: [1, 1054], y: [20, 736], x*y: 753948\n",
        "HatP12b.Light.60S1X2.V.158[1:1054,20:736] -> trimmedimages/HatP12b.Light.60S1X2.V.158.b5\n"
       ]
      },
      {
       "output_type": "stream",
       "stream": "stdout",
       "text": [
        "dx: -2, dy: 1\n",
        "x: [39, 1092], y: [1, 717], x*y: 753948\n",
        "HatP12b.Light.60S1X2.V.159[39:1092,1:717] -> trimmedimages/HatP12b.Light.60S1X2.V.159.b6\n"
       ]
      },
      {
       "output_type": "stream",
       "stream": "stdout",
       "text": [
        "x: [37, 1090], y: [2, 718], x*y: 753948\n",
        "HatP12b.Light.60S1X2.V.160[37:1090,2:718] -> trimmedimages/HatP12b.Light.60S1X2.V.160.b6\n"
       ]
      },
      {
       "output_type": "stream",
       "stream": "stdout",
       "text": [
        "x: [35, 1088], y: [3, 719], x*y: 753948\n",
        "HatP12b.Light.60S1X2.V.161[35:1088,3:719] -> trimmedimages/HatP12b.Light.60S1X2.V.161.b6\n"
       ]
      },
      {
       "output_type": "stream",
       "stream": "stdout",
       "text": [
        "x: [33, 1086], y: [4, 720], x*y: 753948\n",
        "HatP12b.Light.60S1X2.V.162[33:1086,4:720] -> trimmedimages/HatP12b.Light.60S1X2.V.162.b6\n"
       ]
      },
      {
       "output_type": "stream",
       "stream": "stdout",
       "text": [
        "x: [31, 1084], y: [5, 721], x*y: 753948\n",
        "HatP12b.Light.60S1X2.V.163[31:1084,5:721] -> trimmedimages/HatP12b.Light.60S1X2.V.163.b6\n"
       ]
      },
      {
       "output_type": "stream",
       "stream": "stdout",
       "text": [
        "x: [29, 1082], y: [6, 722], x*y: 753948\n",
        "HatP12b.Light.60S1X2.V.164[29:1082,6:722] -> trimmedimages/HatP12b.Light.60S1X2.V.164.b6\n"
       ]
      },
      {
       "output_type": "stream",
       "stream": "stdout",
       "text": [
        "x: [27, 1080], y: [7, 723], x*y: 753948\n",
        "HatP12b.Light.60S1X2.V.165[27:1080,7:723] -> trimmedimages/HatP12b.Light.60S1X2.V.165.b6\n"
       ]
      },
      {
       "output_type": "stream",
       "stream": "stdout",
       "text": [
        "x: [25, 1078], y: [8, 724], x*y: 753948\n",
        "HatP12b.Light.60S1X2.V.166[25:1078,8:724] -> trimmedimages/HatP12b.Light.60S1X2.V.166.b6\n"
       ]
      },
      {
       "output_type": "stream",
       "stream": "stdout",
       "text": [
        "x: [23, 1076], y: [9, 725], x*y: 753948\n",
        "HatP12b.Light.60S1X2.V.167[23:1076,9:725] -> trimmedimages/HatP12b.Light.60S1X2.V.167.b6\n"
       ]
      },
      {
       "output_type": "stream",
       "stream": "stdout",
       "text": [
        "x: [21, 1074], y: [10, 726], x*y: 753948\n",
        "HatP12b.Light.60S1X2.V.168[21:1074,10:726] -> trimmedimages/HatP12b.Light.60S1X2.V.168.b6\n"
       ]
      },
      {
       "output_type": "stream",
       "stream": "stdout",
       "text": [
        "x: [19, 1072], y: [11, 727], x*y: 753948\n",
        "HatP12b.Light.60S1X2.V.169[19:1072,11:727] -> trimmedimages/HatP12b.Light.60S1X2.V.169.b6\n"
       ]
      },
      {
       "output_type": "stream",
       "stream": "stdout",
       "text": [
        "x: [17, 1070], y: [12, 728], x*y: 753948\n",
        "HatP12b.Light.60S1X2.V.170[17:1070,12:728] -> trimmedimages/HatP12b.Light.60S1X2.V.170.b6\n"
       ]
      },
      {
       "output_type": "stream",
       "stream": "stdout",
       "text": [
        "x: [15, 1068], y: [13, 729], x*y: 753948\n",
        "HatP12b.Light.60S1X2.V.171[15:1068,13:729] -> trimmedimages/HatP12b.Light.60S1X2.V.171.b6\n"
       ]
      },
      {
       "output_type": "stream",
       "stream": "stdout",
       "text": [
        "x: [13, 1066], y: [14, 730], x*y: 753948\n",
        "HatP12b.Light.60S1X2.V.172[13:1066,14:730] -> trimmedimages/HatP12b.Light.60S1X2.V.172.b6\n"
       ]
      },
      {
       "output_type": "stream",
       "stream": "stdout",
       "text": [
        "x: [11, 1064], y: [15, 731], x*y: 753948\n",
        "HatP12b.Light.60S1X2.V.173[11:1064,15:731] -> trimmedimages/HatP12b.Light.60S1X2.V.173.b6\n"
       ]
      },
      {
       "output_type": "stream",
       "stream": "stdout",
       "text": [
        "x: [9, 1062], y: [16, 732], x*y: 753948\n",
        "HatP12b.Light.60S1X2.V.174[9:1062,16:732] -> trimmedimages/HatP12b.Light.60S1X2.V.174.b6\n"
       ]
      },
      {
       "output_type": "stream",
       "stream": "stdout",
       "text": [
        "x: [7, 1060], y: [17, 733], x*y: 753948\n",
        "HatP12b.Light.60S1X2.V.175[7:1060,17:733] -> trimmedimages/HatP12b.Light.60S1X2.V.175.b6\n"
       ]
      },
      {
       "output_type": "stream",
       "stream": "stdout",
       "text": [
        "x: [5, 1058], y: [18, 734], x*y: 753948\n",
        "HatP12b.Light.60S1X2.V.176[5:1058,18:734] -> trimmedimages/HatP12b.Light.60S1X2.V.176.b6\n"
       ]
      },
      {
       "output_type": "stream",
       "stream": "stdout",
       "text": [
        "x: [3, 1056], y: [19, 735], x*y: 753948\n",
        "HatP12b.Light.60S1X2.V.177[3:1056,19:735] -> trimmedimages/HatP12b.Light.60S1X2.V.177.b6\n"
       ]
      },
      {
       "output_type": "stream",
       "stream": "stdout",
       "text": [
        "x: [1, 1054], y: [20, 736], x*y: 753948\n",
        "HatP12b.Light.60S1X2.V.178[1:1054,20:736] -> trimmedimages/HatP12b.Light.60S1X2.V.178.b6\n"
       ]
      },
      {
       "output_type": "stream",
       "stream": "stdout",
       "text": [
        "dx: -2, dy: 1\n",
        "x: [39, 1092], y: [1, 717], x*y: 753948\n",
        "HatP12b.Light.60S1X2.V.179[39:1092,1:717] -> trimmedimages/HatP12b.Light.60S1X2.V.179.b7\n"
       ]
      },
      {
       "output_type": "stream",
       "stream": "stdout",
       "text": [
        "x: [37, 1090], y: [2, 718], x*y: 753948\n",
        "HatP12b.Light.60S1X2.V.180[37:1090,2:718] -> trimmedimages/HatP12b.Light.60S1X2.V.180.b7\n"
       ]
      },
      {
       "output_type": "stream",
       "stream": "stdout",
       "text": [
        "x: [35, 1088], y: [3, 719], x*y: 753948\n",
        "HatP12b.Light.60S1X2.V.181[35:1088,3:719] -> trimmedimages/HatP12b.Light.60S1X2.V.181.b7\n"
       ]
      },
      {
       "output_type": "stream",
       "stream": "stdout",
       "text": [
        "x: [33, 1086], y: [4, 720], x*y: 753948\n",
        "HatP12b.Light.60S1X2.V.182[33:1086,4:720] -> trimmedimages/HatP12b.Light.60S1X2.V.182.b7\n"
       ]
      },
      {
       "output_type": "stream",
       "stream": "stdout",
       "text": [
        "x: [31, 1084], y: [5, 721], x*y: 753948\n",
        "HatP12b.Light.60S1X2.V.183[31:1084,5:721] -> trimmedimages/HatP12b.Light.60S1X2.V.183.b7\n"
       ]
      },
      {
       "output_type": "stream",
       "stream": "stdout",
       "text": [
        "x: [29, 1082], y: [6, 722], x*y: 753948\n",
        "HatP12b.Light.60S1X2.V.184[29:1082,6:722] -> trimmedimages/HatP12b.Light.60S1X2.V.184.b7\n"
       ]
      },
      {
       "output_type": "stream",
       "stream": "stdout",
       "text": [
        "x: [27, 1080], y: [7, 723], x*y: 753948\n",
        "HatP12b.Light.60S1X2.V.185[27:1080,7:723] -> trimmedimages/HatP12b.Light.60S1X2.V.185.b7\n"
       ]
      },
      {
       "output_type": "stream",
       "stream": "stdout",
       "text": [
        "x: [25, 1078], y: [8, 724], x*y: 753948\n",
        "HatP12b.Light.60S1X2.V.186[25:1078,8:724] -> trimmedimages/HatP12b.Light.60S1X2.V.186.b7\n"
       ]
      },
      {
       "output_type": "stream",
       "stream": "stdout",
       "text": [
        "x: [23, 1076], y: [9, 725], x*y: 753948\n",
        "HatP12b.Light.60S1X2.V.187[23:1076,9:725] -> trimmedimages/HatP12b.Light.60S1X2.V.187.b7\n"
       ]
      },
      {
       "output_type": "stream",
       "stream": "stdout",
       "text": [
        "x: [21, 1074], y: [10, 726], x*y: 753948\n",
        "HatP12b.Light.60S1X2.V.188[21:1074,10:726] -> trimmedimages/HatP12b.Light.60S1X2.V.188.b7\n"
       ]
      },
      {
       "output_type": "stream",
       "stream": "stdout",
       "text": [
        "x: [19, 1072], y: [11, 727], x*y: 753948\n",
        "HatP12b.Light.60S1X2.V.189[19:1072,11:727] -> trimmedimages/HatP12b.Light.60S1X2.V.189.b7\n"
       ]
      },
      {
       "output_type": "stream",
       "stream": "stdout",
       "text": [
        "x: [17, 1070], y: [12, 728], x*y: 753948\n",
        "HatP12b.Light.60S1X2.V.190[17:1070,12:728] -> trimmedimages/HatP12b.Light.60S1X2.V.190.b7\n"
       ]
      },
      {
       "output_type": "stream",
       "stream": "stdout",
       "text": [
        "x: [15, 1068], y: [13, 729], x*y: 753948\n",
        "HatP12b.Light.60S1X2.V.191[15:1068,13:729] -> trimmedimages/HatP12b.Light.60S1X2.V.191.b7\n"
       ]
      },
      {
       "output_type": "stream",
       "stream": "stdout",
       "text": [
        "x: [13, 1066], y: [14, 730], x*y: 753948\n",
        "HatP12b.Light.60S1X2.V.192[13:1066,14:730] -> trimmedimages/HatP12b.Light.60S1X2.V.192.b7\n"
       ]
      },
      {
       "output_type": "stream",
       "stream": "stdout",
       "text": [
        "x: [11, 1064], y: [15, 731], x*y: 753948\n",
        "HatP12b.Light.60S1X2.V.193[11:1064,15:731] -> trimmedimages/HatP12b.Light.60S1X2.V.193.b7\n"
       ]
      },
      {
       "output_type": "stream",
       "stream": "stdout",
       "text": [
        "x: [9, 1062], y: [16, 732], x*y: 753948\n",
        "HatP12b.Light.60S1X2.V.194[9:1062,16:732] -> trimmedimages/HatP12b.Light.60S1X2.V.194.b7\n"
       ]
      },
      {
       "output_type": "stream",
       "stream": "stdout",
       "text": [
        "x: [7, 1060], y: [17, 733], x*y: 753948\n",
        "HatP12b.Light.60S1X2.V.195[7:1060,17:733] -> trimmedimages/HatP12b.Light.60S1X2.V.195.b7\n"
       ]
      },
      {
       "output_type": "stream",
       "stream": "stdout",
       "text": [
        "x: [5, 1058], y: [18, 734], x*y: 753948\n",
        "HatP12b.Light.60S1X2.V.196[5:1058,18:734] -> trimmedimages/HatP12b.Light.60S1X2.V.196.b7\n"
       ]
      },
      {
       "output_type": "stream",
       "stream": "stdout",
       "text": [
        "x: [3, 1056], y: [19, 735], x*y: 753948\n",
        "HatP12b.Light.60S1X2.V.197[3:1056,19:735] -> trimmedimages/HatP12b.Light.60S1X2.V.197.b7\n"
       ]
      },
      {
       "output_type": "stream",
       "stream": "stdout",
       "text": [
        "x: [1, 1054], y: [20, 736], x*y: 753948\n",
        "HatP12b.Light.60S1X2.V.198[1:1054,20:736] -> trimmedimages/HatP12b.Light.60S1X2.V.198.b7\n"
       ]
      },
      {
       "output_type": "stream",
       "stream": "stdout",
       "text": [
        "dx: -2, dy: 1\n",
        "x: [39, 1092], y: [1, 717], x*y: 753948\n",
        "HatP12b.Light.60S1X2.V.199[39:1092,1:717] -> trimmedimages/HatP12b.Light.60S1X2.V.199.b8\n"
       ]
      },
      {
       "output_type": "stream",
       "stream": "stdout",
       "text": [
        "x: [37, 1090], y: [2, 718], x*y: 753948\n",
        "HatP12b.Light.60S1X2.V.200[37:1090,2:718] -> trimmedimages/HatP12b.Light.60S1X2.V.200.b8\n"
       ]
      },
      {
       "output_type": "stream",
       "stream": "stdout",
       "text": [
        "x: [35, 1088], y: [3, 719], x*y: 753948\n",
        "HatP12b.Light.60S1X2.V.201[35:1088,3:719] -> trimmedimages/HatP12b.Light.60S1X2.V.201.b8\n"
       ]
      },
      {
       "output_type": "stream",
       "stream": "stdout",
       "text": [
        "x: [33, 1086], y: [4, 720], x*y: 753948\n",
        "HatP12b.Light.60S1X2.V.202[33:1086,4:720] -> trimmedimages/HatP12b.Light.60S1X2.V.202.b8\n"
       ]
      },
      {
       "output_type": "stream",
       "stream": "stdout",
       "text": [
        "x: [31, 1084], y: [5, 721], x*y: 753948\n",
        "HatP12b.Light.60S1X2.V.203[31:1084,5:721] -> trimmedimages/HatP12b.Light.60S1X2.V.203.b8\n"
       ]
      },
      {
       "output_type": "stream",
       "stream": "stdout",
       "text": [
        "x: [29, 1082], y: [6, 722], x*y: 753948\n",
        "HatP12b.Light.60S1X2.V.204[29:1082,6:722] -> trimmedimages/HatP12b.Light.60S1X2.V.204.b8\n"
       ]
      },
      {
       "output_type": "stream",
       "stream": "stdout",
       "text": [
        "x: [27, 1080], y: [7, 723], x*y: 753948\n",
        "HatP12b.Light.60S1X2.V.205[27:1080,7:723] -> trimmedimages/HatP12b.Light.60S1X2.V.205.b8\n"
       ]
      },
      {
       "output_type": "stream",
       "stream": "stdout",
       "text": [
        "x: [25, 1078], y: [8, 724], x*y: 753948\n",
        "HatP12b.Light.60S1X2.V.206[25:1078,8:724] -> trimmedimages/HatP12b.Light.60S1X2.V.206.b8\n"
       ]
      },
      {
       "output_type": "stream",
       "stream": "stdout",
       "text": [
        "x: [23, 1076], y: [9, 725], x*y: 753948\n",
        "HatP12b.Light.60S1X2.V.207[23:1076,9:725] -> trimmedimages/HatP12b.Light.60S1X2.V.207.b8\n"
       ]
      },
      {
       "output_type": "stream",
       "stream": "stdout",
       "text": [
        "x: [21, 1074], y: [10, 726], x*y: 753948\n",
        "HatP12b.Light.60S1X2.V.208[21:1074,10:726] -> trimmedimages/HatP12b.Light.60S1X2.V.208.b8\n"
       ]
      },
      {
       "output_type": "stream",
       "stream": "stdout",
       "text": [
        "x: [19, 1072], y: [11, 727], x*y: 753948\n",
        "HatP12b.Light.60S1X2.V.209[19:1072,11:727] -> trimmedimages/HatP12b.Light.60S1X2.V.209.b8\n"
       ]
      },
      {
       "output_type": "stream",
       "stream": "stdout",
       "text": [
        "x: [17, 1070], y: [12, 728], x*y: 753948\n",
        "HatP12b.Light.60S1X2.V.210[17:1070,12:728] -> trimmedimages/HatP12b.Light.60S1X2.V.210.b8\n"
       ]
      },
      {
       "output_type": "stream",
       "stream": "stdout",
       "text": [
        "x: [15, 1068], y: [13, 729], x*y: 753948\n",
        "HatP12b.Light.60S1X2.V.211[15:1068,13:729] -> trimmedimages/HatP12b.Light.60S1X2.V.211.b8\n"
       ]
      },
      {
       "output_type": "stream",
       "stream": "stdout",
       "text": [
        "x: [13, 1066], y: [14, 730], x*y: 753948\n",
        "HatP12b.Light.60S1X2.V.212[13:1066,14:730] -> trimmedimages/HatP12b.Light.60S1X2.V.212.b8\n"
       ]
      },
      {
       "output_type": "stream",
       "stream": "stdout",
       "text": [
        "x: [11, 1064], y: [15, 731], x*y: 753948\n",
        "HatP12b.Light.60S1X2.V.213[11:1064,15:731] -> trimmedimages/HatP12b.Light.60S1X2.V.213.b8\n"
       ]
      },
      {
       "output_type": "stream",
       "stream": "stdout",
       "text": [
        "x: [9, 1062], y: [16, 732], x*y: 753948\n",
        "HatP12b.Light.60S1X2.V.214[9:1062,16:732] -> trimmedimages/HatP12b.Light.60S1X2.V.214.b8\n"
       ]
      },
      {
       "output_type": "stream",
       "stream": "stdout",
       "text": [
        "x: [7, 1060], y: [17, 733], x*y: 753948\n",
        "HatP12b.Light.60S1X2.V.215[7:1060,17:733] -> trimmedimages/HatP12b.Light.60S1X2.V.215.b8\n"
       ]
      },
      {
       "output_type": "stream",
       "stream": "stdout",
       "text": [
        "x: [5, 1058], y: [18, 734], x*y: 753948\n",
        "HatP12b.Light.60S1X2.V.216[5:1058,18:734] -> trimmedimages/HatP12b.Light.60S1X2.V.216.b8\n"
       ]
      },
      {
       "output_type": "stream",
       "stream": "stdout",
       "text": [
        "x: [3, 1056], y: [19, 735], x*y: 753948\n",
        "HatP12b.Light.60S1X2.V.217[3:1056,19:735] -> trimmedimages/HatP12b.Light.60S1X2.V.217.b8\n"
       ]
      },
      {
       "output_type": "stream",
       "stream": "stdout",
       "text": [
        "x: [1, 1054], y: [20, 736], x*y: 753948\n",
        "HatP12b.Light.60S1X2.V.218[1:1054,20:736] -> trimmedimages/HatP12b.Light.60S1X2.V.218.b8\n"
       ]
      },
      {
       "output_type": "stream",
       "stream": "stdout",
       "text": [
        "dx: -2, dy: 1\n",
        "x: [9, 1062], y: [16, 732], x*y: 753948\n",
        "HatP12b.Light.60S1X2.V.219[9:1062,16:732] -> trimmedimages/HatP12b.Light.60S1X2.V.219.b9\n"
       ]
      },
      {
       "output_type": "stream",
       "stream": "stdout",
       "text": [
        "x: [7, 1060], y: [17, 733], x*y: 753948\n",
        "HatP12b.Light.60S1X2.V.220[7:1060,17:733] -> trimmedimages/HatP12b.Light.60S1X2.V.220.b9\n"
       ]
      },
      {
       "output_type": "stream",
       "stream": "stdout",
       "text": [
        "x: [5, 1058], y: [18, 734], x*y: 753948\n",
        "HatP12b.Light.60S1X2.V.221[5:1058,18:734] -> trimmedimages/HatP12b.Light.60S1X2.V.221.b9\n"
       ]
      },
      {
       "output_type": "stream",
       "stream": "stdout",
       "text": [
        "x: [3, 1056], y: [19, 735], x*y: 753948\n",
        "HatP12b.Light.60S1X2.V.222[3:1056,19:735] -> trimmedimages/HatP12b.Light.60S1X2.V.222.b9\n"
       ]
      },
      {
       "output_type": "stream",
       "stream": "stdout",
       "text": [
        "x: [1, 1054], y: [20, 736], x*y: 753948\n",
        "HatP12b.Light.60S1X2.V.223[1:1054,20:736] -> trimmedimages/HatP12b.Light.60S1X2.V.223.b9\n"
       ]
      }
     ],
     "prompt_number": 3
    },
    {
     "cell_type": "markdown",
     "metadata": {},
     "source": [
      "### OPTIONAL: Batch By Logbook Sequence"
     ]
    },
    {
     "cell_type": "code",
     "collapsed": true,
     "input": [
      "batch1 = st.fileFinder(59,78)\n",
      "xi1 = [57,264,539,676]\n",
      "xf1 = [97,305,578,716]\n",
      "yi1 = [490,437,231,387]\n",
      "yf1 = [472,418,213,369]\n",
      "st.shiftTrim(batch1,xi1,xf1,yi1,yf1,fnew='b1',newdir='trimmedimagesalt/')"
     ],
     "language": "python",
     "metadata": {},
     "outputs": [
      {
       "output_type": "stream",
       "stream": "stdout",
       "text": [
        "dx: 2, dy: -1\n",
        "x: [1, 1054], y: [20, 736], x*y: 753948\n",
        "HatP12b.Light.60S1X2.V.59[1:1054,20:736] -> trimmedimagesalt/HatP12b.Light.60S1X2.V.59.b1\n"
       ]
      },
      {
       "output_type": "stream",
       "stream": "stdout",
       "text": [
        "x: [3, 1056], y: [19, 735], x*y: 753948\n",
        "HatP12b.Light.60S1X2.V.60[3:1056,19:735] -> trimmedimagesalt/HatP12b.Light.60S1X2.V.60.b1\n"
       ]
      },
      {
       "output_type": "stream",
       "stream": "stdout",
       "text": [
        "x: [5, 1058], y: [18, 734], x*y: 753948\n",
        "HatP12b.Light.60S1X2.V.61[5:1058,18:734] -> trimmedimagesalt/HatP12b.Light.60S1X2.V.61.b1\n"
       ]
      },
      {
       "output_type": "stream",
       "stream": "stdout",
       "text": [
        "x: [7, 1060], y: [17, 733], x*y: 753948\n",
        "HatP12b.Light.60S1X2.V.62[7:1060,17:733] -> trimmedimagesalt/HatP12b.Light.60S1X2.V.62.b1\n"
       ]
      },
      {
       "output_type": "stream",
       "stream": "stdout",
       "text": [
        "x: [9, 1062], y: [16, 732], x*y: 753948\n",
        "HatP12b.Light.60S1X2.V.63[9:1062,16:732] -> trimmedimagesalt/HatP12b.Light.60S1X2.V.63.b1\n"
       ]
      },
      {
       "output_type": "stream",
       "stream": "stdout",
       "text": [
        "x: [11, 1064], y: [15, 731], x*y: 753948\n",
        "HatP12b.Light.60S1X2.V.64[11:1064,15:731] -> trimmedimagesalt/HatP12b.Light.60S1X2.V.64.b1\n"
       ]
      },
      {
       "output_type": "stream",
       "stream": "stdout",
       "text": [
        "x: [13, 1066], y: [14, 730], x*y: 753948\n",
        "HatP12b.Light.60S1X2.V.65[13:1066,14:730] -> trimmedimagesalt/HatP12b.Light.60S1X2.V.65.b1\n"
       ]
      },
      {
       "output_type": "stream",
       "stream": "stdout",
       "text": [
        "x: [15, 1068], y: [13, 729], x*y: 753948\n",
        "HatP12b.Light.60S1X2.V.66[15:1068,13:729] -> trimmedimagesalt/HatP12b.Light.60S1X2.V.66.b1\n"
       ]
      },
      {
       "output_type": "stream",
       "stream": "stdout",
       "text": [
        "x: [17, 1070], y: [12, 728], x*y: 753948\n",
        "HatP12b.Light.60S1X2.V.67[17:1070,12:728] -> trimmedimagesalt/HatP12b.Light.60S1X2.V.67.b1\n"
       ]
      },
      {
       "output_type": "stream",
       "stream": "stdout",
       "text": [
        "x: [19, 1072], y: [11, 727], x*y: 753948\n",
        "HatP12b.Light.60S1X2.V.68[19:1072,11:727] -> trimmedimagesalt/HatP12b.Light.60S1X2.V.68.b1\n"
       ]
      },
      {
       "output_type": "stream",
       "stream": "stdout",
       "text": [
        "x: [21, 1074], y: [10, 726], x*y: 753948\n",
        "HatP12b.Light.60S1X2.V.69[21:1074,10:726] -> trimmedimagesalt/HatP12b.Light.60S1X2.V.69.b1\n"
       ]
      },
      {
       "output_type": "stream",
       "stream": "stdout",
       "text": [
        "x: [23, 1076], y: [9, 725], x*y: 753948\n",
        "HatP12b.Light.60S1X2.V.70[23:1076,9:725] -> trimmedimagesalt/HatP12b.Light.60S1X2.V.70.b1\n"
       ]
      },
      {
       "output_type": "stream",
       "stream": "stdout",
       "text": [
        "x: [25, 1078], y: [8, 724], x*y: 753948\n",
        "HatP12b.Light.60S1X2.V.71[25:1078,8:724] -> trimmedimagesalt/HatP12b.Light.60S1X2.V.71.b1\n"
       ]
      },
      {
       "output_type": "stream",
       "stream": "stdout",
       "text": [
        "x: [27, 1080], y: [7, 723], x*y: 753948\n",
        "HatP12b.Light.60S1X2.V.72[27:1080,7:723] -> trimmedimagesalt/HatP12b.Light.60S1X2.V.72.b1\n"
       ]
      },
      {
       "output_type": "stream",
       "stream": "stdout",
       "text": [
        "x: [29, 1082], y: [6, 722], x*y: 753948\n",
        "HatP12b.Light.60S1X2.V.73[29:1082,6:722] -> trimmedimagesalt/HatP12b.Light.60S1X2.V.73.b1\n"
       ]
      },
      {
       "output_type": "stream",
       "stream": "stdout",
       "text": [
        "x: [31, 1084], y: [5, 721], x*y: 753948\n",
        "HatP12b.Light.60S1X2.V.74[31:1084,5:721] -> trimmedimagesalt/HatP12b.Light.60S1X2.V.74.b1\n"
       ]
      },
      {
       "output_type": "stream",
       "stream": "stdout",
       "text": [
        "x: [33, 1086], y: [4, 720], x*y: 753948\n",
        "HatP12b.Light.60S1X2.V.75[33:1086,4:720] -> trimmedimagesalt/HatP12b.Light.60S1X2.V.75.b1\n"
       ]
      },
      {
       "output_type": "stream",
       "stream": "stdout",
       "text": [
        "x: [35, 1088], y: [3, 719], x*y: 753948\n",
        "HatP12b.Light.60S1X2.V.76[35:1088,3:719] -> trimmedimagesalt/HatP12b.Light.60S1X2.V.76.b1\n"
       ]
      },
      {
       "output_type": "stream",
       "stream": "stdout",
       "text": [
        "x: [37, 1090], y: [2, 718], x*y: 753948\n",
        "HatP12b.Light.60S1X2.V.77[37:1090,2:718] -> trimmedimagesalt/HatP12b.Light.60S1X2.V.77.b1\n"
       ]
      },
      {
       "output_type": "stream",
       "stream": "stdout",
       "text": [
        "x: [39, 1092], y: [1, 717], x*y: 753948\n",
        "HatP12b.Light.60S1X2.V.78[39:1092,1:717] -> trimmedimagesalt/HatP12b.Light.60S1X2.V.78.b1\n"
       ]
      }
     ],
     "prompt_number": 4
    },
    {
     "cell_type": "code",
     "collapsed": true,
     "input": [
      "! ls trimmedimagesalt/*.b1* > trimmedimagesalt/b1.lis"
     ],
     "language": "python",
     "metadata": {},
     "outputs": [],
     "prompt_number": 5
    },
    {
     "cell_type": "code",
     "collapsed": true,
     "input": [
      "batch2 = st.fileFinder(79,158)\n",
      "st.shiftTrim(batch2,0.,0.,0.,0.,dx=-2,dy=1,fnew='b2',newdir='trimmedimagesalt/')"
     ],
     "language": "python",
     "metadata": {},
     "outputs": [
      {
       "output_type": "stream",
       "stream": "stdout",
       "text": [
        "dx: -2, dy: 1\n",
        "x: [159, 1092], y: [1, 657], x*y: 612048\n",
        "HatP12b.Light.60S1X2.V.79[159:1092,1:657] -> trimmedimagesalt/HatP12b.Light.60S1X2.V.79.b2\n"
       ]
      },
      {
       "output_type": "stream",
       "stream": "stdout",
       "text": [
        "x: [157, 1090], y: [2, 658], x*y: 612048\n",
        "HatP12b.Light.60S1X2.V.80[157:1090,2:658] -> trimmedimagesalt/HatP12b.Light.60S1X2.V.80.b2\n"
       ]
      },
      {
       "output_type": "stream",
       "stream": "stdout",
       "text": [
        "x: [155, 1088], y: [3, 659], x*y: 612048\n",
        "HatP12b.Light.60S1X2.V.81[155:1088,3:659] -> trimmedimagesalt/HatP12b.Light.60S1X2.V.81.b2\n"
       ]
      },
      {
       "output_type": "stream",
       "stream": "stdout",
       "text": [
        "x: [153, 1086], y: [4, 660], x*y: 612048\n",
        "HatP12b.Light.60S1X2.V.82[153:1086,4:660] -> trimmedimagesalt/HatP12b.Light.60S1X2.V.82.b2\n"
       ]
      },
      {
       "output_type": "stream",
       "stream": "stdout",
       "text": [
        "x: [151, 1084], y: [5, 661], x*y: 612048\n",
        "HatP12b.Light.60S1X2.V.83[151:1084,5:661] -> trimmedimagesalt/HatP12b.Light.60S1X2.V.83.b2\n"
       ]
      },
      {
       "output_type": "stream",
       "stream": "stdout",
       "text": [
        "x: [149, 1082], y: [6, 662], x*y: 612048\n",
        "HatP12b.Light.60S1X2.V.84[149:1082,6:662] -> trimmedimagesalt/HatP12b.Light.60S1X2.V.84.b2\n"
       ]
      },
      {
       "output_type": "stream",
       "stream": "stdout",
       "text": [
        "x: [147, 1080], y: [7, 663], x*y: 612048\n",
        "HatP12b.Light.60S1X2.V.85[147:1080,7:663] -> trimmedimagesalt/HatP12b.Light.60S1X2.V.85.b2\n"
       ]
      },
      {
       "output_type": "stream",
       "stream": "stdout",
       "text": [
        "x: [145, 1078], y: [8, 664], x*y: 612048\n",
        "HatP12b.Light.60S1X2.V.86[145:1078,8:664] -> trimmedimagesalt/HatP12b.Light.60S1X2.V.86.b2\n"
       ]
      },
      {
       "output_type": "stream",
       "stream": "stdout",
       "text": [
        "x: [143, 1076], y: [9, 665], x*y: 612048\n",
        "HatP12b.Light.60S1X2.V.87[143:1076,9:665] -> trimmedimagesalt/HatP12b.Light.60S1X2.V.87.b2\n"
       ]
      },
      {
       "output_type": "stream",
       "stream": "stdout",
       "text": [
        "x: [141, 1074], y: [10, 666], x*y: 612048\n",
        "HatP12b.Light.60S1X2.V.88[141:1074,10:666] -> trimmedimagesalt/HatP12b.Light.60S1X2.V.88.b2\n"
       ]
      },
      {
       "output_type": "stream",
       "stream": "stdout",
       "text": [
        "x: [139, 1072], y: [11, 667], x*y: 612048\n",
        "HatP12b.Light.60S1X2.V.89[139:1072,11:667] -> trimmedimagesalt/HatP12b.Light.60S1X2.V.89.b2\n"
       ]
      },
      {
       "output_type": "stream",
       "stream": "stdout",
       "text": [
        "x: [137, 1070], y: [12, 668], x*y: 612048\n",
        "HatP12b.Light.60S1X2.V.90[137:1070,12:668] -> trimmedimagesalt/HatP12b.Light.60S1X2.V.90.b2\n"
       ]
      },
      {
       "output_type": "stream",
       "stream": "stdout",
       "text": [
        "x: [135, 1068], y: [13, 669], x*y: 612048\n",
        "HatP12b.Light.60S1X2.V.91[135:1068,13:669] -> trimmedimagesalt/HatP12b.Light.60S1X2.V.91.b2\n"
       ]
      },
      {
       "output_type": "stream",
       "stream": "stdout",
       "text": [
        "x: [133, 1066], y: [14, 670], x*y: 612048\n",
        "HatP12b.Light.60S1X2.V.92[133:1066,14:670] -> trimmedimagesalt/HatP12b.Light.60S1X2.V.92.b2\n"
       ]
      },
      {
       "output_type": "stream",
       "stream": "stdout",
       "text": [
        "x: [131, 1064], y: [15, 671], x*y: 612048\n",
        "HatP12b.Light.60S1X2.V.93[131:1064,15:671] -> trimmedimagesalt/HatP12b.Light.60S1X2.V.93.b2\n"
       ]
      },
      {
       "output_type": "stream",
       "stream": "stdout",
       "text": [
        "x: [129, 1062], y: [16, 672], x*y: 612048\n",
        "HatP12b.Light.60S1X2.V.94[129:1062,16:672] -> trimmedimagesalt/HatP12b.Light.60S1X2.V.94.b2\n"
       ]
      },
      {
       "output_type": "stream",
       "stream": "stdout",
       "text": [
        "x: [127, 1060], y: [17, 673], x*y: 612048\n",
        "HatP12b.Light.60S1X2.V.95[127:1060,17:673] -> trimmedimagesalt/HatP12b.Light.60S1X2.V.95.b2\n"
       ]
      },
      {
       "output_type": "stream",
       "stream": "stdout",
       "text": [
        "x: [125, 1058], y: [18, 674], x*y: 612048\n",
        "HatP12b.Light.60S1X2.V.96[125:1058,18:674] -> trimmedimagesalt/HatP12b.Light.60S1X2.V.96.b2\n"
       ]
      },
      {
       "output_type": "stream",
       "stream": "stdout",
       "text": [
        "x: [123, 1056], y: [19, 675], x*y: 612048\n",
        "HatP12b.Light.60S1X2.V.97[123:1056,19:675] -> trimmedimagesalt/HatP12b.Light.60S1X2.V.97.b2\n"
       ]
      },
      {
       "output_type": "stream",
       "stream": "stdout",
       "text": [
        "x: [121, 1054], y: [20, 676], x*y: 612048\n",
        "HatP12b.Light.60S1X2.V.98[121:1054,20:676] -> trimmedimagesalt/HatP12b.Light.60S1X2.V.98.b2\n"
       ]
      },
      {
       "output_type": "stream",
       "stream": "stdout",
       "text": [
        "x: [119, 1052], y: [21, 677], x*y: 612048\n",
        "HatP12b.Light.60S1X2.V.99[119:1052,21:677] -> trimmedimagesalt/HatP12b.Light.60S1X2.V.99.b2\n"
       ]
      },
      {
       "output_type": "stream",
       "stream": "stdout",
       "text": [
        "x: [117, 1050], y: [22, 678], x*y: 612048\n",
        "HatP12b.Light.60S1X2.V.100[117:1050,22:678] -> trimmedimagesalt/HatP12b.Light.60S1X2.V.100.b2\n"
       ]
      },
      {
       "output_type": "stream",
       "stream": "stdout",
       "text": [
        "x: [115, 1048], y: [23, 679], x*y: 612048\n",
        "HatP12b.Light.60S1X2.V.101[115:1048,23:679] -> trimmedimagesalt/HatP12b.Light.60S1X2.V.101.b2\n"
       ]
      },
      {
       "output_type": "stream",
       "stream": "stdout",
       "text": [
        "x: [113, 1046], y: [24, 680], x*y: 612048\n",
        "HatP12b.Light.60S1X2.V.102[113:1046,24:680] -> trimmedimagesalt/HatP12b.Light.60S1X2.V.102.b2\n"
       ]
      },
      {
       "output_type": "stream",
       "stream": "stdout",
       "text": [
        "x: [111, 1044], y: [25, 681], x*y: 612048\n",
        "HatP12b.Light.60S1X2.V.103[111:1044,25:681] -> trimmedimagesalt/HatP12b.Light.60S1X2.V.103.b2\n"
       ]
      },
      {
       "output_type": "stream",
       "stream": "stdout",
       "text": [
        "x: [109, 1042], y: [26, 682], x*y: 612048\n",
        "HatP12b.Light.60S1X2.V.104[109:1042,26:682] -> trimmedimagesalt/HatP12b.Light.60S1X2.V.104.b2\n"
       ]
      },
      {
       "output_type": "stream",
       "stream": "stdout",
       "text": [
        "x: [107, 1040], y: [27, 683], x*y: 612048\n",
        "HatP12b.Light.60S1X2.V.105[107:1040,27:683] -> trimmedimagesalt/HatP12b.Light.60S1X2.V.105.b2\n"
       ]
      },
      {
       "output_type": "stream",
       "stream": "stdout",
       "text": [
        "x: [105, 1038], y: [28, 684], x*y: 612048\n",
        "HatP12b.Light.60S1X2.V.106[105:1038,28:684] -> trimmedimagesalt/HatP12b.Light.60S1X2.V.106.b2\n"
       ]
      },
      {
       "output_type": "stream",
       "stream": "stdout",
       "text": [
        "x: [103, 1036], y: [29, 685], x*y: 612048\n",
        "HatP12b.Light.60S1X2.V.107[103:1036,29:685] -> trimmedimagesalt/HatP12b.Light.60S1X2.V.107.b2\n"
       ]
      },
      {
       "output_type": "stream",
       "stream": "stdout",
       "text": [
        "x: [101, 1034], y: [30, 686], x*y: 612048\n",
        "HatP12b.Light.60S1X2.V.108[101:1034,30:686] -> trimmedimagesalt/HatP12b.Light.60S1X2.V.108.b2\n"
       ]
      },
      {
       "output_type": "stream",
       "stream": "stdout",
       "text": [
        "x: [99, 1032], y: [31, 687], x*y: 612048\n",
        "HatP12b.Light.60S1X2.V.109[99:1032,31:687] -> trimmedimagesalt/HatP12b.Light.60S1X2.V.109.b2\n"
       ]
      },
      {
       "output_type": "stream",
       "stream": "stdout",
       "text": [
        "x: [97, 1030], y: [32, 688], x*y: 612048\n",
        "HatP12b.Light.60S1X2.V.110[97:1030,32:688] -> trimmedimagesalt/HatP12b.Light.60S1X2.V.110.b2\n"
       ]
      },
      {
       "output_type": "stream",
       "stream": "stdout",
       "text": [
        "x: [95, 1028], y: [33, 689], x*y: 612048\n",
        "HatP12b.Light.60S1X2.V.111[95:1028,33:689] -> trimmedimagesalt/HatP12b.Light.60S1X2.V.111.b2\n"
       ]
      },
      {
       "output_type": "stream",
       "stream": "stdout",
       "text": [
        "x: [93, 1026], y: [34, 690], x*y: 612048\n",
        "HatP12b.Light.60S1X2.V.112[93:1026,34:690] -> trimmedimagesalt/HatP12b.Light.60S1X2.V.112.b2\n"
       ]
      },
      {
       "output_type": "stream",
       "stream": "stdout",
       "text": [
        "x: [91, 1024], y: [35, 691], x*y: 612048\n",
        "HatP12b.Light.60S1X2.V.113[91:1024,35:691] -> trimmedimagesalt/HatP12b.Light.60S1X2.V.113.b2\n"
       ]
      },
      {
       "output_type": "stream",
       "stream": "stdout",
       "text": [
        "x: [89, 1022], y: [36, 692], x*y: 612048\n",
        "HatP12b.Light.60S1X2.V.114[89:1022,36:692] -> trimmedimagesalt/HatP12b.Light.60S1X2.V.114.b2\n"
       ]
      },
      {
       "output_type": "stream",
       "stream": "stdout",
       "text": [
        "x: [87, 1020], y: [37, 693], x*y: 612048\n",
        "HatP12b.Light.60S1X2.V.115[87:1020,37:693] -> trimmedimagesalt/HatP12b.Light.60S1X2.V.115.b2\n"
       ]
      },
      {
       "output_type": "stream",
       "stream": "stdout",
       "text": [
        "x: [85, 1018], y: [38, 694], x*y: 612048\n",
        "HatP12b.Light.60S1X2.V.116[85:1018,38:694] -> trimmedimagesalt/HatP12b.Light.60S1X2.V.116.b2\n"
       ]
      },
      {
       "output_type": "stream",
       "stream": "stdout",
       "text": [
        "x: [83, 1016], y: [39, 695], x*y: 612048\n",
        "HatP12b.Light.60S1X2.V.117[83:1016,39:695] -> trimmedimagesalt/HatP12b.Light.60S1X2.V.117.b2\n"
       ]
      },
      {
       "output_type": "stream",
       "stream": "stdout",
       "text": [
        "x: [81, 1014], y: [40, 696], x*y: 612048\n",
        "HatP12b.Light.60S1X2.V.118[81:1014,40:696] -> trimmedimagesalt/HatP12b.Light.60S1X2.V.118.b2\n"
       ]
      },
      {
       "output_type": "stream",
       "stream": "stdout",
       "text": [
        "x: [79, 1012], y: [41, 697], x*y: 612048\n",
        "HatP12b.Light.60S1X2.V.119[79:1012,41:697] -> trimmedimagesalt/HatP12b.Light.60S1X2.V.119.b2\n"
       ]
      },
      {
       "output_type": "stream",
       "stream": "stdout",
       "text": [
        "x: [77, 1010], y: [42, 698], x*y: 612048\n",
        "HatP12b.Light.60S1X2.V.120[77:1010,42:698] -> trimmedimagesalt/HatP12b.Light.60S1X2.V.120.b2\n"
       ]
      },
      {
       "output_type": "stream",
       "stream": "stdout",
       "text": [
        "x: [75, 1008], y: [43, 699], x*y: 612048\n",
        "HatP12b.Light.60S1X2.V.121[75:1008,43:699] -> trimmedimagesalt/HatP12b.Light.60S1X2.V.121.b2\n"
       ]
      },
      {
       "output_type": "stream",
       "stream": "stdout",
       "text": [
        "x: [73, 1006], y: [44, 700], x*y: 612048\n",
        "HatP12b.Light.60S1X2.V.122[73:1006,44:700] -> trimmedimagesalt/HatP12b.Light.60S1X2.V.122.b2\n"
       ]
      },
      {
       "output_type": "stream",
       "stream": "stdout",
       "text": [
        "x: [71, 1004], y: [45, 701], x*y: 612048\n",
        "HatP12b.Light.60S1X2.V.123[71:1004,45:701] -> trimmedimagesalt/HatP12b.Light.60S1X2.V.123.b2\n"
       ]
      },
      {
       "output_type": "stream",
       "stream": "stdout",
       "text": [
        "x: [69, 1002], y: [46, 702], x*y: 612048\n",
        "HatP12b.Light.60S1X2.V.124[69:1002,46:702] -> trimmedimagesalt/HatP12b.Light.60S1X2.V.124.b2\n"
       ]
      },
      {
       "output_type": "stream",
       "stream": "stdout",
       "text": [
        "x: [67, 1000], y: [47, 703], x*y: 612048\n",
        "HatP12b.Light.60S1X2.V.125[67:1000,47:703] -> trimmedimagesalt/HatP12b.Light.60S1X2.V.125.b2\n"
       ]
      },
      {
       "output_type": "stream",
       "stream": "stdout",
       "text": [
        "x: [65, 998], y: [48, 704], x*y: 612048\n",
        "HatP12b.Light.60S1X2.V.126[65:998,48:704] -> trimmedimagesalt/HatP12b.Light.60S1X2.V.126.b2\n"
       ]
      },
      {
       "output_type": "stream",
       "stream": "stdout",
       "text": [
        "x: [63, 996], y: [49, 705], x*y: 612048\n",
        "HatP12b.Light.60S1X2.V.127[63:996,49:705] -> trimmedimagesalt/HatP12b.Light.60S1X2.V.127.b2\n"
       ]
      },
      {
       "output_type": "stream",
       "stream": "stdout",
       "text": [
        "x: [61, 994], y: [50, 706], x*y: 612048\n",
        "HatP12b.Light.60S1X2.V.128[61:994,50:706] -> trimmedimagesalt/HatP12b.Light.60S1X2.V.128.b2\n"
       ]
      },
      {
       "output_type": "stream",
       "stream": "stdout",
       "text": [
        "x: [59, 992], y: [51, 707], x*y: 612048\n",
        "HatP12b.Light.60S1X2.V.129[59:992,51:707] -> trimmedimagesalt/HatP12b.Light.60S1X2.V.129.b2\n"
       ]
      },
      {
       "output_type": "stream",
       "stream": "stdout",
       "text": [
        "x: [57, 990], y: [52, 708], x*y: 612048\n",
        "HatP12b.Light.60S1X2.V.130[57:990,52:708] -> trimmedimagesalt/HatP12b.Light.60S1X2.V.130.b2\n"
       ]
      },
      {
       "output_type": "stream",
       "stream": "stdout",
       "text": [
        "x: [55, 988], y: [53, 709], x*y: 612048\n",
        "HatP12b.Light.60S1X2.V.131[55:988,53:709] -> trimmedimagesalt/HatP12b.Light.60S1X2.V.131.b2\n"
       ]
      },
      {
       "output_type": "stream",
       "stream": "stdout",
       "text": [
        "x: [53, 986], y: [54, 710], x*y: 612048\n",
        "HatP12b.Light.60S1X2.V.132[53:986,54:710] -> trimmedimagesalt/HatP12b.Light.60S1X2.V.132.b2\n"
       ]
      },
      {
       "output_type": "stream",
       "stream": "stdout",
       "text": [
        "x: [51, 984], y: [55, 711], x*y: 612048\n",
        "HatP12b.Light.60S1X2.V.133[51:984,55:711] -> trimmedimagesalt/HatP12b.Light.60S1X2.V.133.b2\n"
       ]
      },
      {
       "output_type": "stream",
       "stream": "stdout",
       "text": [
        "x: [49, 982], y: [56, 712], x*y: 612048\n",
        "HatP12b.Light.60S1X2.V.134[49:982,56:712] -> trimmedimagesalt/HatP12b.Light.60S1X2.V.134.b2\n"
       ]
      },
      {
       "output_type": "stream",
       "stream": "stdout",
       "text": [
        "x: [47, 980], y: [57, 713], x*y: 612048\n",
        "HatP12b.Light.60S1X2.V.135[47:980,57:713] -> trimmedimagesalt/HatP12b.Light.60S1X2.V.135.b2\n"
       ]
      },
      {
       "output_type": "stream",
       "stream": "stdout",
       "text": [
        "x: [45, 978], y: [58, 714], x*y: 612048\n",
        "HatP12b.Light.60S1X2.V.136[45:978,58:714] -> trimmedimagesalt/HatP12b.Light.60S1X2.V.136.b2\n"
       ]
      },
      {
       "output_type": "stream",
       "stream": "stdout",
       "text": [
        "x: [43, 976], y: [59, 715], x*y: 612048\n",
        "HatP12b.Light.60S1X2.V.137[43:976,59:715] -> trimmedimagesalt/HatP12b.Light.60S1X2.V.137.b2\n"
       ]
      },
      {
       "output_type": "stream",
       "stream": "stdout",
       "text": [
        "x: [41, 974], y: [60, 716], x*y: 612048\n",
        "HatP12b.Light.60S1X2.V.138[41:974,60:716] -> trimmedimagesalt/HatP12b.Light.60S1X2.V.138.b2\n"
       ]
      },
      {
       "output_type": "stream",
       "stream": "stdout",
       "text": [
        "x: [39, 972], y: [61, 717], x*y: 612048\n",
        "HatP12b.Light.60S1X2.V.139[39:972,61:717] -> trimmedimagesalt/HatP12b.Light.60S1X2.V.139.b2\n"
       ]
      },
      {
       "output_type": "stream",
       "stream": "stdout",
       "text": [
        "x: [37, 970], y: [62, 718], x*y: 612048\n",
        "HatP12b.Light.60S1X2.V.140[37:970,62:718] -> trimmedimagesalt/HatP12b.Light.60S1X2.V.140.b2\n"
       ]
      },
      {
       "output_type": "stream",
       "stream": "stdout",
       "text": [
        "x: [35, 968], y: [63, 719], x*y: 612048\n",
        "HatP12b.Light.60S1X2.V.141[35:968,63:719] -> trimmedimagesalt/HatP12b.Light.60S1X2.V.141.b2\n"
       ]
      },
      {
       "output_type": "stream",
       "stream": "stdout",
       "text": [
        "x: [33, 966], y: [64, 720], x*y: 612048\n",
        "HatP12b.Light.60S1X2.V.142[33:966,64:720] -> trimmedimagesalt/HatP12b.Light.60S1X2.V.142.b2\n"
       ]
      },
      {
       "output_type": "stream",
       "stream": "stdout",
       "text": [
        "x: [31, 964], y: [65, 721], x*y: 612048\n",
        "HatP12b.Light.60S1X2.V.143[31:964,65:721] -> trimmedimagesalt/HatP12b.Light.60S1X2.V.143.b2\n"
       ]
      },
      {
       "output_type": "stream",
       "stream": "stdout",
       "text": [
        "x: [29, 962], y: [66, 722], x*y: 612048\n",
        "HatP12b.Light.60S1X2.V.144[29:962,66:722] -> trimmedimagesalt/HatP12b.Light.60S1X2.V.144.b2\n"
       ]
      },
      {
       "output_type": "stream",
       "stream": "stdout",
       "text": [
        "x: [27, 960], y: [67, 723], x*y: 612048\n",
        "HatP12b.Light.60S1X2.V.145[27:960,67:723] -> trimmedimagesalt/HatP12b.Light.60S1X2.V.145.b2\n"
       ]
      },
      {
       "output_type": "stream",
       "stream": "stdout",
       "text": [
        "x: [25, 958], y: [68, 724], x*y: 612048\n",
        "HatP12b.Light.60S1X2.V.146[25:958,68:724] -> trimmedimagesalt/HatP12b.Light.60S1X2.V.146.b2\n"
       ]
      },
      {
       "output_type": "stream",
       "stream": "stdout",
       "text": [
        "x: [23, 956], y: [69, 725], x*y: 612048\n",
        "HatP12b.Light.60S1X2.V.147[23:956,69:725] -> trimmedimagesalt/HatP12b.Light.60S1X2.V.147.b2\n"
       ]
      },
      {
       "output_type": "stream",
       "stream": "stdout",
       "text": [
        "x: [21, 954], y: [70, 726], x*y: 612048\n",
        "HatP12b.Light.60S1X2.V.148[21:954,70:726] -> trimmedimagesalt/HatP12b.Light.60S1X2.V.148.b2\n"
       ]
      },
      {
       "output_type": "stream",
       "stream": "stdout",
       "text": [
        "x: [19, 952], y: [71, 727], x*y: 612048\n",
        "HatP12b.Light.60S1X2.V.149[19:952,71:727] -> trimmedimagesalt/HatP12b.Light.60S1X2.V.149.b2\n"
       ]
      },
      {
       "output_type": "stream",
       "stream": "stdout",
       "text": [
        "x: [17, 950], y: [72, 728], x*y: 612048\n",
        "HatP12b.Light.60S1X2.V.150[17:950,72:728] -> trimmedimagesalt/HatP12b.Light.60S1X2.V.150.b2\n"
       ]
      },
      {
       "output_type": "stream",
       "stream": "stdout",
       "text": [
        "x: [15, 948], y: [73, 729], x*y: 612048\n",
        "HatP12b.Light.60S1X2.V.151[15:948,73:729] -> trimmedimagesalt/HatP12b.Light.60S1X2.V.151.b2\n"
       ]
      },
      {
       "output_type": "stream",
       "stream": "stdout",
       "text": [
        "x: [13, 946], y: [74, 730], x*y: 612048\n",
        "HatP12b.Light.60S1X2.V.152[13:946,74:730] -> trimmedimagesalt/HatP12b.Light.60S1X2.V.152.b2\n"
       ]
      },
      {
       "output_type": "stream",
       "stream": "stdout",
       "text": [
        "x: [11, 944], y: [75, 731], x*y: 612048\n",
        "HatP12b.Light.60S1X2.V.153[11:944,75:731] -> trimmedimagesalt/HatP12b.Light.60S1X2.V.153.b2\n"
       ]
      },
      {
       "output_type": "stream",
       "stream": "stdout",
       "text": [
        "x: [9, 942], y: [76, 732], x*y: 612048\n",
        "HatP12b.Light.60S1X2.V.154[9:942,76:732] -> trimmedimagesalt/HatP12b.Light.60S1X2.V.154.b2\n"
       ]
      },
      {
       "output_type": "stream",
       "stream": "stdout",
       "text": [
        "x: [7, 940], y: [77, 733], x*y: 612048\n",
        "HatP12b.Light.60S1X2.V.155[7:940,77:733] -> trimmedimagesalt/HatP12b.Light.60S1X2.V.155.b2\n"
       ]
      },
      {
       "output_type": "stream",
       "stream": "stdout",
       "text": [
        "x: [5, 938], y: [78, 734], x*y: 612048\n",
        "HatP12b.Light.60S1X2.V.156[5:938,78:734] -> trimmedimagesalt/HatP12b.Light.60S1X2.V.156.b2\n"
       ]
      },
      {
       "output_type": "stream",
       "stream": "stdout",
       "text": [
        "x: [3, 936], y: [79, 735], x*y: 612048\n",
        "HatP12b.Light.60S1X2.V.157[3:936,79:735] -> trimmedimagesalt/HatP12b.Light.60S1X2.V.157.b2\n"
       ]
      },
      {
       "output_type": "stream",
       "stream": "stdout",
       "text": [
        "x: [1, 934], y: [80, 736], x*y: 612048\n",
        "HatP12b.Light.60S1X2.V.158[1:934,80:736] -> trimmedimagesalt/HatP12b.Light.60S1X2.V.158.b2\n"
       ]
      }
     ],
     "prompt_number": 6
    },
    {
     "cell_type": "code",
     "collapsed": true,
     "input": [
      "! ls trimmedimagesalt/*b2.fits > trimmedimagesalt/b2.lis"
     ],
     "language": "python",
     "metadata": {},
     "outputs": [],
     "prompt_number": 7
    },
    {
     "cell_type": "code",
     "collapsed": true,
     "input": [
      "batch3 = st.fileFinder(159,223)\n",
      "st.shiftTrim(batch3,499.,355.,521.,585.,fnew='b3',newdir='trimmedimagesalt/')"
     ],
     "language": "python",
     "metadata": {},
     "outputs": [
      {
       "output_type": "stream",
       "stream": "stdout",
       "text": [
        "dx: -2, dy: 1\n",
        "x: [129, 1092], y: [1, 672], x*y: 646173\n",
        "HatP12b.Light.60S1X2.V.159[129:1092,1:672] -> trimmedimagesalt/HatP12b.Light.60S1X2.V.159.b3\n"
       ]
      },
      {
       "output_type": "stream",
       "stream": "stdout",
       "text": [
        "x: [127, 1090], y: [2, 673], x*y: 646173\n",
        "HatP12b.Light.60S1X2.V.160[127:1090,2:673] -> trimmedimagesalt/HatP12b.Light.60S1X2.V.160.b3\n"
       ]
      },
      {
       "output_type": "stream",
       "stream": "stdout",
       "text": [
        "x: [125, 1088], y: [3, 674], x*y: 646173\n",
        "HatP12b.Light.60S1X2.V.161[125:1088,3:674] -> trimmedimagesalt/HatP12b.Light.60S1X2.V.161.b3\n"
       ]
      },
      {
       "output_type": "stream",
       "stream": "stdout",
       "text": [
        "x: [123, 1086], y: [4, 675], x*y: 646173\n",
        "HatP12b.Light.60S1X2.V.162[123:1086,4:675] -> trimmedimagesalt/HatP12b.Light.60S1X2.V.162.b3\n"
       ]
      },
      {
       "output_type": "stream",
       "stream": "stdout",
       "text": [
        "x: [121, 1084], y: [5, 676], x*y: 646173\n",
        "HatP12b.Light.60S1X2.V.163[121:1084,5:676] -> trimmedimagesalt/HatP12b.Light.60S1X2.V.163.b3\n"
       ]
      },
      {
       "output_type": "stream",
       "stream": "stdout",
       "text": [
        "x: [119, 1082], y: [6, 677], x*y: 646173\n",
        "HatP12b.Light.60S1X2.V.164[119:1082,6:677] -> trimmedimagesalt/HatP12b.Light.60S1X2.V.164.b3\n"
       ]
      },
      {
       "output_type": "stream",
       "stream": "stdout",
       "text": [
        "x: [117, 1080], y: [7, 678], x*y: 646173\n",
        "HatP12b.Light.60S1X2.V.165[117:1080,7:678] -> trimmedimagesalt/HatP12b.Light.60S1X2.V.165.b3\n"
       ]
      },
      {
       "output_type": "stream",
       "stream": "stdout",
       "text": [
        "x: [115, 1078], y: [8, 679], x*y: 646173\n",
        "HatP12b.Light.60S1X2.V.166[115:1078,8:679] -> trimmedimagesalt/HatP12b.Light.60S1X2.V.166.b3\n"
       ]
      },
      {
       "output_type": "stream",
       "stream": "stdout",
       "text": [
        "x: [113, 1076], y: [9, 680], x*y: 646173\n",
        "HatP12b.Light.60S1X2.V.167[113:1076,9:680] -> trimmedimagesalt/HatP12b.Light.60S1X2.V.167.b3\n"
       ]
      },
      {
       "output_type": "stream",
       "stream": "stdout",
       "text": [
        "x: [111, 1074], y: [10, 681], x*y: 646173\n",
        "HatP12b.Light.60S1X2.V.168[111:1074,10:681] -> trimmedimagesalt/HatP12b.Light.60S1X2.V.168.b3\n"
       ]
      },
      {
       "output_type": "stream",
       "stream": "stdout",
       "text": [
        "x: [109, 1072], y: [11, 682], x*y: 646173\n",
        "HatP12b.Light.60S1X2.V.169[109:1072,11:682] -> trimmedimagesalt/HatP12b.Light.60S1X2.V.169.b3\n"
       ]
      },
      {
       "output_type": "stream",
       "stream": "stdout",
       "text": [
        "x: [107, 1070], y: [12, 683], x*y: 646173\n",
        "HatP12b.Light.60S1X2.V.170[107:1070,12:683] -> trimmedimagesalt/HatP12b.Light.60S1X2.V.170.b3\n"
       ]
      },
      {
       "output_type": "stream",
       "stream": "stdout",
       "text": [
        "x: [105, 1068], y: [13, 684], x*y: 646173\n",
        "HatP12b.Light.60S1X2.V.171[105:1068,13:684] -> trimmedimagesalt/HatP12b.Light.60S1X2.V.171.b3\n"
       ]
      },
      {
       "output_type": "stream",
       "stream": "stdout",
       "text": [
        "x: [103, 1066], y: [14, 685], x*y: 646173\n",
        "HatP12b.Light.60S1X2.V.172[103:1066,14:685] -> trimmedimagesalt/HatP12b.Light.60S1X2.V.172.b3\n"
       ]
      },
      {
       "output_type": "stream",
       "stream": "stdout",
       "text": [
        "x: [101, 1064], y: [15, 686], x*y: 646173\n",
        "HatP12b.Light.60S1X2.V.173[101:1064,15:686] -> trimmedimagesalt/HatP12b.Light.60S1X2.V.173.b3\n"
       ]
      },
      {
       "output_type": "stream",
       "stream": "stdout",
       "text": [
        "x: [99, 1062], y: [16, 687], x*y: 646173\n",
        "HatP12b.Light.60S1X2.V.174[99:1062,16:687] -> trimmedimagesalt/HatP12b.Light.60S1X2.V.174.b3\n"
       ]
      },
      {
       "output_type": "stream",
       "stream": "stdout",
       "text": [
        "x: [97, 1060], y: [17, 688], x*y: 646173\n",
        "HatP12b.Light.60S1X2.V.175[97:1060,17:688] -> trimmedimagesalt/HatP12b.Light.60S1X2.V.175.b3\n"
       ]
      },
      {
       "output_type": "stream",
       "stream": "stdout",
       "text": [
        "x: [95, 1058], y: [18, 689], x*y: 646173\n",
        "HatP12b.Light.60S1X2.V.176[95:1058,18:689] -> trimmedimagesalt/HatP12b.Light.60S1X2.V.176.b3\n"
       ]
      },
      {
       "output_type": "stream",
       "stream": "stdout",
       "text": [
        "x: [93, 1056], y: [19, 690], x*y: 646173\n",
        "HatP12b.Light.60S1X2.V.177[93:1056,19:690] -> trimmedimagesalt/HatP12b.Light.60S1X2.V.177.b3\n"
       ]
      },
      {
       "output_type": "stream",
       "stream": "stdout",
       "text": [
        "x: [91, 1054], y: [20, 691], x*y: 646173\n",
        "HatP12b.Light.60S1X2.V.178[91:1054,20:691] -> trimmedimagesalt/HatP12b.Light.60S1X2.V.178.b3\n"
       ]
      },
      {
       "output_type": "stream",
       "stream": "stdout",
       "text": [
        "x: [89, 1052], y: [21, 692], x*y: 646173\n",
        "HatP12b.Light.60S1X2.V.179[89:1052,21:692] -> trimmedimagesalt/HatP12b.Light.60S1X2.V.179.b3\n"
       ]
      },
      {
       "output_type": "stream",
       "stream": "stdout",
       "text": [
        "x: [87, 1050], y: [22, 693], x*y: 646173\n",
        "HatP12b.Light.60S1X2.V.180[87:1050,22:693] -> trimmedimagesalt/HatP12b.Light.60S1X2.V.180.b3\n"
       ]
      },
      {
       "output_type": "stream",
       "stream": "stdout",
       "text": [
        "x: [85, 1048], y: [23, 694], x*y: 646173\n",
        "HatP12b.Light.60S1X2.V.181[85:1048,23:694] -> trimmedimagesalt/HatP12b.Light.60S1X2.V.181.b3\n"
       ]
      },
      {
       "output_type": "stream",
       "stream": "stdout",
       "text": [
        "x: [83, 1046], y: [24, 695], x*y: 646173\n",
        "HatP12b.Light.60S1X2.V.182[83:1046,24:695] -> trimmedimagesalt/HatP12b.Light.60S1X2.V.182.b3\n"
       ]
      },
      {
       "output_type": "stream",
       "stream": "stdout",
       "text": [
        "x: [81, 1044], y: [25, 696], x*y: 646173\n",
        "HatP12b.Light.60S1X2.V.183[81:1044,25:696] -> trimmedimagesalt/HatP12b.Light.60S1X2.V.183.b3\n"
       ]
      },
      {
       "output_type": "stream",
       "stream": "stdout",
       "text": [
        "x: [79, 1042], y: [26, 697], x*y: 646173\n",
        "HatP12b.Light.60S1X2.V.184[79:1042,26:697] -> trimmedimagesalt/HatP12b.Light.60S1X2.V.184.b3\n"
       ]
      },
      {
       "output_type": "stream",
       "stream": "stdout",
       "text": [
        "x: [77, 1040], y: [27, 698], x*y: 646173\n",
        "HatP12b.Light.60S1X2.V.185[77:1040,27:698] -> trimmedimagesalt/HatP12b.Light.60S1X2.V.185.b3\n"
       ]
      },
      {
       "output_type": "stream",
       "stream": "stdout",
       "text": [
        "x: [75, 1038], y: [28, 699], x*y: 646173\n",
        "HatP12b.Light.60S1X2.V.186[75:1038,28:699] -> trimmedimagesalt/HatP12b.Light.60S1X2.V.186.b3\n"
       ]
      },
      {
       "output_type": "stream",
       "stream": "stdout",
       "text": [
        "x: [73, 1036], y: [29, 700], x*y: 646173\n",
        "HatP12b.Light.60S1X2.V.187[73:1036,29:700] -> trimmedimagesalt/HatP12b.Light.60S1X2.V.187.b3\n"
       ]
      },
      {
       "output_type": "stream",
       "stream": "stdout",
       "text": [
        "x: [71, 1034], y: [30, 701], x*y: 646173\n",
        "HatP12b.Light.60S1X2.V.188[71:1034,30:701] -> trimmedimagesalt/HatP12b.Light.60S1X2.V.188.b3\n"
       ]
      },
      {
       "output_type": "stream",
       "stream": "stdout",
       "text": [
        "x: [69, 1032], y: [31, 702], x*y: 646173\n",
        "HatP12b.Light.60S1X2.V.189[69:1032,31:702] -> trimmedimagesalt/HatP12b.Light.60S1X2.V.189.b3\n"
       ]
      },
      {
       "output_type": "stream",
       "stream": "stdout",
       "text": [
        "x: [67, 1030], y: [32, 703], x*y: 646173\n",
        "HatP12b.Light.60S1X2.V.190[67:1030,32:703] -> trimmedimagesalt/HatP12b.Light.60S1X2.V.190.b3\n"
       ]
      },
      {
       "output_type": "stream",
       "stream": "stdout",
       "text": [
        "x: [65, 1028], y: [33, 704], x*y: 646173\n",
        "HatP12b.Light.60S1X2.V.191[65:1028,33:704] -> trimmedimagesalt/HatP12b.Light.60S1X2.V.191.b3\n"
       ]
      },
      {
       "output_type": "stream",
       "stream": "stdout",
       "text": [
        "x: [63, 1026], y: [34, 705], x*y: 646173\n",
        "HatP12b.Light.60S1X2.V.192[63:1026,34:705] -> trimmedimagesalt/HatP12b.Light.60S1X2.V.192.b3\n"
       ]
      },
      {
       "output_type": "stream",
       "stream": "stdout",
       "text": [
        "x: [61, 1024], y: [35, 706], x*y: 646173\n",
        "HatP12b.Light.60S1X2.V.193[61:1024,35:706] -> trimmedimagesalt/HatP12b.Light.60S1X2.V.193.b3\n"
       ]
      },
      {
       "output_type": "stream",
       "stream": "stdout",
       "text": [
        "x: [59, 1022], y: [36, 707], x*y: 646173\n",
        "HatP12b.Light.60S1X2.V.194[59:1022,36:707] -> trimmedimagesalt/HatP12b.Light.60S1X2.V.194.b3\n"
       ]
      },
      {
       "output_type": "stream",
       "stream": "stdout",
       "text": [
        "x: [57, 1020], y: [37, 708], x*y: 646173\n",
        "HatP12b.Light.60S1X2.V.195[57:1020,37:708] -> trimmedimagesalt/HatP12b.Light.60S1X2.V.195.b3\n"
       ]
      },
      {
       "output_type": "stream",
       "stream": "stdout",
       "text": [
        "x: [55, 1018], y: [38, 709], x*y: 646173\n",
        "HatP12b.Light.60S1X2.V.196[55:1018,38:709] -> trimmedimagesalt/HatP12b.Light.60S1X2.V.196.b3\n"
       ]
      },
      {
       "output_type": "stream",
       "stream": "stdout",
       "text": [
        "x: [53, 1016], y: [39, 710], x*y: 646173\n",
        "HatP12b.Light.60S1X2.V.197[53:1016,39:710] -> trimmedimagesalt/HatP12b.Light.60S1X2.V.197.b3\n"
       ]
      },
      {
       "output_type": "stream",
       "stream": "stdout",
       "text": [
        "x: [51, 1014], y: [40, 711], x*y: 646173\n",
        "HatP12b.Light.60S1X2.V.198[51:1014,40:711] -> trimmedimagesalt/HatP12b.Light.60S1X2.V.198.b3\n"
       ]
      },
      {
       "output_type": "stream",
       "stream": "stdout",
       "text": [
        "x: [49, 1012], y: [41, 712], x*y: 646173\n",
        "HatP12b.Light.60S1X2.V.199[49:1012,41:712] -> trimmedimagesalt/HatP12b.Light.60S1X2.V.199.b3\n"
       ]
      },
      {
       "output_type": "stream",
       "stream": "stdout",
       "text": [
        "x: [47, 1010], y: [42, 713], x*y: 646173\n",
        "HatP12b.Light.60S1X2.V.200[47:1010,42:713] -> trimmedimagesalt/HatP12b.Light.60S1X2.V.200.b3\n"
       ]
      },
      {
       "output_type": "stream",
       "stream": "stdout",
       "text": [
        "x: [45, 1008], y: [43, 714], x*y: 646173\n",
        "HatP12b.Light.60S1X2.V.201[45:1008,43:714] -> trimmedimagesalt/HatP12b.Light.60S1X2.V.201.b3\n"
       ]
      },
      {
       "output_type": "stream",
       "stream": "stdout",
       "text": [
        "x: [43, 1006], y: [44, 715], x*y: 646173\n",
        "HatP12b.Light.60S1X2.V.202[43:1006,44:715] -> trimmedimagesalt/HatP12b.Light.60S1X2.V.202.b3\n"
       ]
      },
      {
       "output_type": "stream",
       "stream": "stdout",
       "text": [
        "x: [41, 1004], y: [45, 716], x*y: 646173\n",
        "HatP12b.Light.60S1X2.V.203[41:1004,45:716] -> trimmedimagesalt/HatP12b.Light.60S1X2.V.203.b3\n"
       ]
      },
      {
       "output_type": "stream",
       "stream": "stdout",
       "text": [
        "x: [39, 1002], y: [46, 717], x*y: 646173\n",
        "HatP12b.Light.60S1X2.V.204[39:1002,46:717] -> trimmedimagesalt/HatP12b.Light.60S1X2.V.204.b3\n"
       ]
      },
      {
       "output_type": "stream",
       "stream": "stdout",
       "text": [
        "x: [37, 1000], y: [47, 718], x*y: 646173\n",
        "HatP12b.Light.60S1X2.V.205[37:1000,47:718] -> trimmedimagesalt/HatP12b.Light.60S1X2.V.205.b3\n"
       ]
      },
      {
       "output_type": "stream",
       "stream": "stdout",
       "text": [
        "x: [35, 998], y: [48, 719], x*y: 646173\n",
        "HatP12b.Light.60S1X2.V.206[35:998,48:719] -> trimmedimagesalt/HatP12b.Light.60S1X2.V.206.b3\n"
       ]
      },
      {
       "output_type": "stream",
       "stream": "stdout",
       "text": [
        "x: [33, 996], y: [49, 720], x*y: 646173\n",
        "HatP12b.Light.60S1X2.V.207[33:996,49:720] -> trimmedimagesalt/HatP12b.Light.60S1X2.V.207.b3\n"
       ]
      },
      {
       "output_type": "stream",
       "stream": "stdout",
       "text": [
        "x: [31, 994], y: [50, 721], x*y: 646173\n",
        "HatP12b.Light.60S1X2.V.208[31:994,50:721] -> trimmedimagesalt/HatP12b.Light.60S1X2.V.208.b3\n"
       ]
      },
      {
       "output_type": "stream",
       "stream": "stdout",
       "text": [
        "x: [29, 992], y: [51, 722], x*y: 646173\n",
        "HatP12b.Light.60S1X2.V.209[29:992,51:722] -> trimmedimagesalt/HatP12b.Light.60S1X2.V.209.b3\n"
       ]
      },
      {
       "output_type": "stream",
       "stream": "stdout",
       "text": [
        "x: [27, 990], y: [52, 723], x*y: 646173\n",
        "HatP12b.Light.60S1X2.V.210[27:990,52:723] -> trimmedimagesalt/HatP12b.Light.60S1X2.V.210.b3\n"
       ]
      },
      {
       "output_type": "stream",
       "stream": "stdout",
       "text": [
        "x: [25, 988], y: [53, 724], x*y: 646173\n",
        "HatP12b.Light.60S1X2.V.211[25:988,53:724] -> trimmedimagesalt/HatP12b.Light.60S1X2.V.211.b3\n"
       ]
      },
      {
       "output_type": "stream",
       "stream": "stdout",
       "text": [
        "x: [23, 986], y: [54, 725], x*y: 646173\n",
        "HatP12b.Light.60S1X2.V.212[23:986,54:725] -> trimmedimagesalt/HatP12b.Light.60S1X2.V.212.b3\n"
       ]
      },
      {
       "output_type": "stream",
       "stream": "stdout",
       "text": [
        "x: [21, 984], y: [55, 726], x*y: 646173\n",
        "HatP12b.Light.60S1X2.V.213[21:984,55:726] -> trimmedimagesalt/HatP12b.Light.60S1X2.V.213.b3\n"
       ]
      },
      {
       "output_type": "stream",
       "stream": "stdout",
       "text": [
        "x: [19, 982], y: [56, 727], x*y: 646173\n",
        "HatP12b.Light.60S1X2.V.214[19:982,56:727] -> trimmedimagesalt/HatP12b.Light.60S1X2.V.214.b3\n"
       ]
      },
      {
       "output_type": "stream",
       "stream": "stdout",
       "text": [
        "x: [17, 980], y: [57, 728], x*y: 646173\n",
        "HatP12b.Light.60S1X2.V.215[17:980,57:728] -> trimmedimagesalt/HatP12b.Light.60S1X2.V.215.b3\n"
       ]
      },
      {
       "output_type": "stream",
       "stream": "stdout",
       "text": [
        "x: [15, 978], y: [58, 729], x*y: 646173\n",
        "HatP12b.Light.60S1X2.V.216[15:978,58:729] -> trimmedimagesalt/HatP12b.Light.60S1X2.V.216.b3\n"
       ]
      },
      {
       "output_type": "stream",
       "stream": "stdout",
       "text": [
        "x: [13, 976], y: [59, 730], x*y: 646173\n",
        "HatP12b.Light.60S1X2.V.217[13:976,59:730] -> trimmedimagesalt/HatP12b.Light.60S1X2.V.217.b3\n"
       ]
      },
      {
       "output_type": "stream",
       "stream": "stdout",
       "text": [
        "x: [11, 974], y: [60, 731], x*y: 646173\n",
        "HatP12b.Light.60S1X2.V.218[11:974,60:731] -> trimmedimagesalt/HatP12b.Light.60S1X2.V.218.b3\n"
       ]
      },
      {
       "output_type": "stream",
       "stream": "stdout",
       "text": [
        "x: [9, 972], y: [61, 732], x*y: 646173\n",
        "HatP12b.Light.60S1X2.V.219[9:972,61:732] -> trimmedimagesalt/HatP12b.Light.60S1X2.V.219.b3\n"
       ]
      },
      {
       "output_type": "stream",
       "stream": "stdout",
       "text": [
        "x: [7, 970], y: [62, 733], x*y: 646173\n",
        "HatP12b.Light.60S1X2.V.220[7:970,62:733] -> trimmedimagesalt/HatP12b.Light.60S1X2.V.220.b3\n"
       ]
      },
      {
       "output_type": "stream",
       "stream": "stdout",
       "text": [
        "x: [5, 968], y: [63, 734], x*y: 646173\n",
        "HatP12b.Light.60S1X2.V.221[5:968,63:734] -> trimmedimagesalt/HatP12b.Light.60S1X2.V.221.b3\n"
       ]
      },
      {
       "output_type": "stream",
       "stream": "stdout",
       "text": [
        "x: [3, 966], y: [64, 735], x*y: 646173\n",
        "HatP12b.Light.60S1X2.V.222[3:966,64:735] -> trimmedimagesalt/HatP12b.Light.60S1X2.V.222.b3\n"
       ]
      },
      {
       "output_type": "stream",
       "stream": "stdout",
       "text": [
        "x: [1, 964], y: [65, 736], x*y: 646173\n",
        "HatP12b.Light.60S1X2.V.223[1:964,65:736] -> trimmedimagesalt/HatP12b.Light.60S1X2.V.223.b3\n"
       ]
      }
     ],
     "prompt_number": 8
    },
    {
     "cell_type": "code",
     "collapsed": true,
     "input": [
      "! ls trimmedimagesalt/*b3.fits > trimmedimagesalt/b3.lis"
     ],
     "language": "python",
     "metadata": {},
     "outputs": [],
     "prompt_number": 9
    }
   ],
   "metadata": {}
  }
 ]
}